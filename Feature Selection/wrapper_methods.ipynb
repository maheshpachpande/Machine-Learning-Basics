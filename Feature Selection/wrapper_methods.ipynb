{
 "cells": [
  {
   "cell_type": "code",
   "execution_count": 1,
   "metadata": {
    "id": "qSgp-dMjfrCY"
   },
   "outputs": [],
   "source": [
    "from sklearn.linear_model import LogisticRegression, LinearRegression\n",
    "from sklearn.model_selection import cross_val_score\n",
    "import pandas as pd\n",
    "import numpy as np"
   ]
  },
  {
   "cell_type": "code",
   "execution_count": 2,
   "metadata": {
    "colab": {
     "base_uri": "https://localhost:8080/"
    },
    "id": "iBbDQ1UffsO7",
    "outputId": "56c83bb5-f43a-4ce0-e692-4a249eafd331"
   },
   "outputs": [
    {
     "name": "stdout",
     "output_type": "stream",
     "text": [
      "Defaulting to user installation because normal site-packages is not writeable\n",
      "Requirement already satisfied: scikit-learn in c:\\users\\mahesh\\appdata\\roaming\\python\\python310\\site-packages (1.3.0)\n",
      "Requirement already satisfied: mlxtend in c:\\users\\mahesh\\appdata\\roaming\\python\\python310\\site-packages (0.22.0)\n",
      "Requirement already satisfied: scipy>=1.5.0 in c:\\programdata\\anaconda3\\lib\\site-packages (from scikit-learn) (1.10.0)\n",
      "Requirement already satisfied: threadpoolctl>=2.0.0 in c:\\programdata\\anaconda3\\lib\\site-packages (from scikit-learn) (2.2.0)\n",
      "Requirement already satisfied: numpy>=1.17.3 in c:\\programdata\\anaconda3\\lib\\site-packages (from scikit-learn) (1.23.5)\n",
      "Requirement already satisfied: joblib>=1.1.1 in c:\\programdata\\anaconda3\\lib\\site-packages (from scikit-learn) (1.1.1)\n",
      "Requirement already satisfied: setuptools in c:\\programdata\\anaconda3\\lib\\site-packages (from mlxtend) (65.6.3)\n",
      "Requirement already satisfied: pandas>=0.24.2 in c:\\programdata\\anaconda3\\lib\\site-packages (from mlxtend) (1.5.3)\n",
      "Requirement already satisfied: matplotlib>=3.0.0 in c:\\programdata\\anaconda3\\lib\\site-packages (from mlxtend) (3.7.0)\n",
      "Requirement already satisfied: contourpy>=1.0.1 in c:\\programdata\\anaconda3\\lib\\site-packages (from matplotlib>=3.0.0->mlxtend) (1.0.5)\n",
      "Requirement already satisfied: kiwisolver>=1.0.1 in c:\\programdata\\anaconda3\\lib\\site-packages (from matplotlib>=3.0.0->mlxtend) (1.4.4)\n",
      "Requirement already satisfied: pyparsing>=2.3.1 in c:\\programdata\\anaconda3\\lib\\site-packages (from matplotlib>=3.0.0->mlxtend) (3.0.9)\n",
      "Requirement already satisfied: pillow>=6.2.0 in c:\\programdata\\anaconda3\\lib\\site-packages (from matplotlib>=3.0.0->mlxtend) (9.4.0)\n",
      "Requirement already satisfied: python-dateutil>=2.7 in c:\\programdata\\anaconda3\\lib\\site-packages (from matplotlib>=3.0.0->mlxtend) (2.8.2)\n",
      "Requirement already satisfied: cycler>=0.10 in c:\\programdata\\anaconda3\\lib\\site-packages (from matplotlib>=3.0.0->mlxtend) (0.11.0)\n",
      "Requirement already satisfied: packaging>=20.0 in c:\\programdata\\anaconda3\\lib\\site-packages (from matplotlib>=3.0.0->mlxtend) (22.0)\n",
      "Requirement already satisfied: fonttools>=4.22.0 in c:\\programdata\\anaconda3\\lib\\site-packages (from matplotlib>=3.0.0->mlxtend) (4.25.0)\n",
      "Requirement already satisfied: pytz>=2020.1 in c:\\programdata\\anaconda3\\lib\\site-packages (from pandas>=0.24.2->mlxtend) (2022.7)\n",
      "Requirement already satisfied: six>=1.5 in c:\\programdata\\anaconda3\\lib\\site-packages (from python-dateutil>=2.7->matplotlib>=3.0.0->mlxtend) (1.16.0)\n"
     ]
    }
   ],
   "source": [
    "!pip install --upgrade scikit-learn mlxtend"
   ]
  },
  {
   "cell_type": "code",
   "execution_count": 37,
   "metadata": {
    "colab": {
     "base_uri": "https://localhost:8080/",
     "height": 206
    },
    "id": "0nHhyGOFf7rE",
    "outputId": "f3fe0716-9de3-48cc-a148-d0a57aa4b015"
   },
   "outputs": [
    {
     "data": {
      "text/html": [
       "<div>\n",
       "<style scoped>\n",
       "    .dataframe tbody tr th:only-of-type {\n",
       "        vertical-align: middle;\n",
       "    }\n",
       "\n",
       "    .dataframe tbody tr th {\n",
       "        vertical-align: top;\n",
       "    }\n",
       "\n",
       "    .dataframe thead th {\n",
       "        text-align: right;\n",
       "    }\n",
       "</style>\n",
       "<table border=\"1\" class=\"dataframe\">\n",
       "  <thead>\n",
       "    <tr style=\"text-align: right;\">\n",
       "      <th></th>\n",
       "      <th>sepal_length</th>\n",
       "      <th>sepal_width</th>\n",
       "      <th>petal_length</th>\n",
       "      <th>petal_width</th>\n",
       "      <th>species</th>\n",
       "    </tr>\n",
       "  </thead>\n",
       "  <tbody>\n",
       "    <tr>\n",
       "      <th>0</th>\n",
       "      <td>5.1</td>\n",
       "      <td>3.5</td>\n",
       "      <td>1.4</td>\n",
       "      <td>0.2</td>\n",
       "      <td>setosa</td>\n",
       "    </tr>\n",
       "    <tr>\n",
       "      <th>1</th>\n",
       "      <td>4.9</td>\n",
       "      <td>3.0</td>\n",
       "      <td>1.4</td>\n",
       "      <td>0.2</td>\n",
       "      <td>setosa</td>\n",
       "    </tr>\n",
       "    <tr>\n",
       "      <th>2</th>\n",
       "      <td>4.7</td>\n",
       "      <td>3.2</td>\n",
       "      <td>1.3</td>\n",
       "      <td>0.2</td>\n",
       "      <td>setosa</td>\n",
       "    </tr>\n",
       "    <tr>\n",
       "      <th>3</th>\n",
       "      <td>4.6</td>\n",
       "      <td>3.1</td>\n",
       "      <td>1.5</td>\n",
       "      <td>0.2</td>\n",
       "      <td>setosa</td>\n",
       "    </tr>\n",
       "    <tr>\n",
       "      <th>4</th>\n",
       "      <td>5.0</td>\n",
       "      <td>3.6</td>\n",
       "      <td>1.4</td>\n",
       "      <td>0.2</td>\n",
       "      <td>setosa</td>\n",
       "    </tr>\n",
       "  </tbody>\n",
       "</table>\n",
       "</div>"
      ],
      "text/plain": [
       "   sepal_length  sepal_width  petal_length  petal_width species\n",
       "0           5.1          3.5           1.4          0.2  setosa\n",
       "1           4.9          3.0           1.4          0.2  setosa\n",
       "2           4.7          3.2           1.3          0.2  setosa\n",
       "3           4.6          3.1           1.5          0.2  setosa\n",
       "4           5.0          3.6           1.4          0.2  setosa"
      ]
     },
     "execution_count": 37,
     "metadata": {},
     "output_type": "execute_result"
    }
   ],
   "source": [
    "# load iris data\n",
    "df = pd.read_csv('https://gist.githubusercontent.com/curran/a08a1080b88344b0c8a7/raw/0e7a9b0a5d22642a06d3d5b9bcbad9890c8ee534/iris.csv')\n",
    "df.head()"
   ]
  },
  {
   "cell_type": "code",
   "execution_count": 38,
   "metadata": {
    "id": "JIN6P7pWykWO"
   },
   "outputs": [],
   "source": [
    "from mlxtend.feature_selection import ExhaustiveFeatureSelector as EFS\n",
    "\n",
    "# output column have categorical data so that\n",
    "lg = LogisticRegression()\n",
    "\n",
    "# for Exhaustive Feature Selector\n",
    "sel = EFS(lg, max_features=4, scoring='accuracy', cv=5)"
   ]
  },
  {
   "cell_type": "code",
   "execution_count": 43,
   "metadata": {
    "colab": {
     "base_uri": "https://localhost:8080/"
    },
    "id": "IgNet5G9zBNx",
    "outputId": "cabcf2b4-77dc-49bb-b5f8-ed881f2a2165"
   },
   "outputs": [
    {
     "name": "stderr",
     "output_type": "stream",
     "text": [
      "C:\\Users\\Mahesh\\AppData\\Roaming\\Python\\Python310\\site-packages\\sklearn\\linear_model\\_logistic.py:460: ConvergenceWarning: lbfgs failed to converge (status=1):\n",
      "STOP: TOTAL NO. of ITERATIONS REACHED LIMIT.\n",
      "\n",
      "Increase the number of iterations (max_iter) or scale the data as shown in:\n",
      "    https://scikit-learn.org/stable/modules/preprocessing.html\n",
      "Please also refer to the documentation for alternative solver options:\n",
      "    https://scikit-learn.org/stable/modules/linear_model.html#logistic-regression\n",
      "  n_iter_i = _check_optimize_result(\n",
      "C:\\Users\\Mahesh\\AppData\\Roaming\\Python\\Python310\\site-packages\\sklearn\\linear_model\\_logistic.py:460: ConvergenceWarning: lbfgs failed to converge (status=1):\n",
      "STOP: TOTAL NO. of ITERATIONS REACHED LIMIT.\n",
      "\n",
      "Increase the number of iterations (max_iter) or scale the data as shown in:\n",
      "    https://scikit-learn.org/stable/modules/preprocessing.html\n",
      "Please also refer to the documentation for alternative solver options:\n",
      "    https://scikit-learn.org/stable/modules/linear_model.html#logistic-regression\n",
      "  n_iter_i = _check_optimize_result(\n",
      "C:\\Users\\Mahesh\\AppData\\Roaming\\Python\\Python310\\site-packages\\sklearn\\linear_model\\_logistic.py:460: ConvergenceWarning: lbfgs failed to converge (status=1):\n",
      "STOP: TOTAL NO. of ITERATIONS REACHED LIMIT.\n",
      "\n",
      "Increase the number of iterations (max_iter) or scale the data as shown in:\n",
      "    https://scikit-learn.org/stable/modules/preprocessing.html\n",
      "Please also refer to the documentation for alternative solver options:\n",
      "    https://scikit-learn.org/stable/modules/linear_model.html#logistic-regression\n",
      "  n_iter_i = _check_optimize_result(\n",
      "Features: 15/15"
     ]
    }
   ],
   "source": [
    "# independent columns and dependent column\n",
    "x = df.iloc[:,:4]\n",
    "y = df['species']\n",
    "\n",
    "# fit on data\n",
    "model = sel.fit(x,y)"
   ]
  },
  {
   "cell_type": "code",
   "execution_count": 44,
   "metadata": {
    "colab": {
     "base_uri": "https://localhost:8080/"
    },
    "id": "-mHmYjYEzShV",
    "outputId": "0d178557-4a29-4016-ed40-7762a63bc04d"
   },
   "outputs": [
    {
     "data": {
      "text/plain": [
       "0.9733333333333334"
      ]
     },
     "execution_count": 44,
     "metadata": {},
     "output_type": "execute_result"
    }
   ],
   "source": [
    "model.best_score_"
   ]
  },
  {
   "cell_type": "code",
   "execution_count": 45,
   "metadata": {
    "colab": {
     "base_uri": "https://localhost:8080/"
    },
    "id": "GNSQ0uRSzc94",
    "outputId": "3ae2bef7-a41c-4f8f-aa31-2776473df077"
   },
   "outputs": [
    {
     "data": {
      "text/plain": [
       "('sepal_width', 'petal_length', 'petal_width')"
      ]
     },
     "execution_count": 45,
     "metadata": {},
     "output_type": "execute_result"
    }
   ],
   "source": [
    "model.best_feature_names_"
   ]
  },
  {
   "cell_type": "code",
   "execution_count": 42,
   "metadata": {
    "colab": {
     "base_uri": "https://localhost:8080/"
    },
    "id": "lzi9yQFSzf8R",
    "outputId": "d0d2e854-3516-4147-c0bb-345eaf7e0a9a"
   },
   "outputs": [
    {
     "data": {
      "text/plain": [
       "{0: {'feature_idx': (0,),\n",
       "  'cv_scores': array([0.66666667, 0.73333333, 0.76666667, 0.76666667, 0.83333333]),\n",
       "  'avg_score': 0.7533333333333333,\n",
       "  'feature_names': ('sepal_length',)},\n",
       " 1: {'feature_idx': (1,),\n",
       "  'cv_scores': array([0.53333333, 0.56666667, 0.53333333, 0.53333333, 0.63333333]),\n",
       "  'avg_score': 0.5599999999999999,\n",
       "  'feature_names': ('sepal_width',)},\n",
       " 2: {'feature_idx': (2,),\n",
       "  'cv_scores': array([0.93333333, 1.        , 0.9       , 0.93333333, 1.        ]),\n",
       "  'avg_score': 0.9533333333333334,\n",
       "  'feature_names': ('petal_length',)},\n",
       " 3: {'feature_idx': (3,),\n",
       "  'cv_scores': array([1.        , 0.96666667, 0.9       , 0.93333333, 1.        ]),\n",
       "  'avg_score': 0.96,\n",
       "  'feature_names': ('petal_width',)},\n",
       " 4: {'feature_idx': (0, 1),\n",
       "  'cv_scores': array([0.73333333, 0.83333333, 0.76666667, 0.86666667, 0.9       ]),\n",
       "  'avg_score': 0.8200000000000001,\n",
       "  'feature_names': ('sepal_length', 'sepal_width')},\n",
       " 5: {'feature_idx': (0, 2),\n",
       "  'cv_scores': array([0.93333333, 1.        , 0.9       , 0.93333333, 1.        ]),\n",
       "  'avg_score': 0.9533333333333334,\n",
       "  'feature_names': ('sepal_length', 'petal_length')},\n",
       " 6: {'feature_idx': (0, 3),\n",
       "  'cv_scores': array([0.93333333, 0.96666667, 0.93333333, 0.93333333, 1.        ]),\n",
       "  'avg_score': 0.9533333333333334,\n",
       "  'feature_names': ('sepal_length', 'petal_width')},\n",
       " 7: {'feature_idx': (1, 2),\n",
       "  'cv_scores': array([0.93333333, 1.        , 0.9       , 0.93333333, 1.        ]),\n",
       "  'avg_score': 0.9533333333333334,\n",
       "  'feature_names': ('sepal_width', 'petal_length')},\n",
       " 8: {'feature_idx': (1, 3),\n",
       "  'cv_scores': array([0.93333333, 0.96666667, 0.9       , 0.93333333, 0.96666667]),\n",
       "  'avg_score': 0.9400000000000001,\n",
       "  'feature_names': ('sepal_width', 'petal_width')},\n",
       " 9: {'feature_idx': (2, 3),\n",
       "  'cv_scores': array([0.96666667, 0.96666667, 0.93333333, 0.93333333, 1.        ]),\n",
       "  'avg_score': 0.96,\n",
       "  'feature_names': ('petal_length', 'petal_width')},\n",
       " 10: {'feature_idx': (0, 1, 2),\n",
       "  'cv_scores': array([0.93333333, 1.        , 0.9       , 0.93333333, 1.        ]),\n",
       "  'avg_score': 0.9533333333333334,\n",
       "  'feature_names': ('sepal_length', 'sepal_width', 'petal_length')},\n",
       " 11: {'feature_idx': (0, 1, 3),\n",
       "  'cv_scores': array([0.9       , 0.96666667, 0.93333333, 0.93333333, 1.        ]),\n",
       "  'avg_score': 0.9466666666666667,\n",
       "  'feature_names': ('sepal_length', 'sepal_width', 'petal_width')},\n",
       " 12: {'feature_idx': (0, 2, 3),\n",
       "  'cv_scores': array([0.96666667, 0.96666667, 0.93333333, 0.96666667, 1.        ]),\n",
       "  'avg_score': 0.9666666666666668,\n",
       "  'feature_names': ('sepal_length', 'petal_length', 'petal_width')},\n",
       " 13: {'feature_idx': (1, 2, 3),\n",
       "  'cv_scores': array([0.96666667, 1.        , 0.93333333, 0.96666667, 1.        ]),\n",
       "  'avg_score': 0.9733333333333334,\n",
       "  'feature_names': ('sepal_width', 'petal_length', 'petal_width')},\n",
       " 14: {'feature_idx': (0, 1, 2, 3),\n",
       "  'cv_scores': array([0.96666667, 1.        , 0.93333333, 0.96666667, 1.        ]),\n",
       "  'avg_score': 0.9733333333333334,\n",
       "  'feature_names': ('sepal_length',\n",
       "   'sepal_width',\n",
       "   'petal_length',\n",
       "   'petal_width')}}"
      ]
     },
     "execution_count": 42,
     "metadata": {},
     "output_type": "execute_result"
    }
   ],
   "source": [
    "# detailed output\n",
    "model.subsets_"
   ]
  },
  {
   "cell_type": "code",
   "execution_count": 47,
   "metadata": {
    "colab": {
     "base_uri": "https://localhost:8080/",
     "height": 563
    },
    "id": "jEgXFkB9znCZ",
    "outputId": "6ae40a8c-9700-4e8a-fe05-42184a6d05b7"
   },
   "outputs": [
    {
     "data": {
      "text/html": [
       "<div>\n",
       "<style scoped>\n",
       "    .dataframe tbody tr th:only-of-type {\n",
       "        vertical-align: middle;\n",
       "    }\n",
       "\n",
       "    .dataframe tbody tr th {\n",
       "        vertical-align: top;\n",
       "    }\n",
       "\n",
       "    .dataframe thead th {\n",
       "        text-align: right;\n",
       "    }\n",
       "</style>\n",
       "<table border=\"1\" class=\"dataframe\">\n",
       "  <thead>\n",
       "    <tr style=\"text-align: right;\">\n",
       "      <th></th>\n",
       "      <th>feature_idx</th>\n",
       "      <th>cv_scores</th>\n",
       "      <th>avg_score</th>\n",
       "      <th>feature_names</th>\n",
       "      <th>ci_bound</th>\n",
       "      <th>std_dev</th>\n",
       "      <th>std_err</th>\n",
       "    </tr>\n",
       "  </thead>\n",
       "  <tbody>\n",
       "    <tr>\n",
       "      <th>0</th>\n",
       "      <td>(0,)</td>\n",
       "      <td>[0.6666666666666666, 0.7333333333333333, 0.766...</td>\n",
       "      <td>0.753333</td>\n",
       "      <td>(sepal_length,)</td>\n",
       "      <td>0.069612</td>\n",
       "      <td>0.05416</td>\n",
       "      <td>0.02708</td>\n",
       "    </tr>\n",
       "    <tr>\n",
       "      <th>1</th>\n",
       "      <td>(1,)</td>\n",
       "      <td>[0.5333333333333333, 0.5666666666666667, 0.533...</td>\n",
       "      <td>0.56</td>\n",
       "      <td>(sepal_width,)</td>\n",
       "      <td>0.049963</td>\n",
       "      <td>0.038873</td>\n",
       "      <td>0.019437</td>\n",
       "    </tr>\n",
       "    <tr>\n",
       "      <th>2</th>\n",
       "      <td>(2,)</td>\n",
       "      <td>[0.9333333333333333, 1.0, 0.9, 0.9333333333333...</td>\n",
       "      <td>0.953333</td>\n",
       "      <td>(petal_length,)</td>\n",
       "      <td>0.051412</td>\n",
       "      <td>0.04</td>\n",
       "      <td>0.02</td>\n",
       "    </tr>\n",
       "    <tr>\n",
       "      <th>3</th>\n",
       "      <td>(3,)</td>\n",
       "      <td>[1.0, 0.9666666666666667, 0.9, 0.9333333333333...</td>\n",
       "      <td>0.96</td>\n",
       "      <td>(petal_width,)</td>\n",
       "      <td>0.049963</td>\n",
       "      <td>0.038873</td>\n",
       "      <td>0.019437</td>\n",
       "    </tr>\n",
       "    <tr>\n",
       "      <th>4</th>\n",
       "      <td>(0, 1)</td>\n",
       "      <td>[0.7333333333333333, 0.8333333333333334, 0.766...</td>\n",
       "      <td>0.82</td>\n",
       "      <td>(sepal_length, sepal_width)</td>\n",
       "      <td>0.079462</td>\n",
       "      <td>0.061824</td>\n",
       "      <td>0.030912</td>\n",
       "    </tr>\n",
       "    <tr>\n",
       "      <th>5</th>\n",
       "      <td>(0, 2)</td>\n",
       "      <td>[0.9333333333333333, 1.0, 0.9, 0.9333333333333...</td>\n",
       "      <td>0.953333</td>\n",
       "      <td>(sepal_length, petal_length)</td>\n",
       "      <td>0.051412</td>\n",
       "      <td>0.04</td>\n",
       "      <td>0.02</td>\n",
       "    </tr>\n",
       "    <tr>\n",
       "      <th>6</th>\n",
       "      <td>(0, 3)</td>\n",
       "      <td>[0.9333333333333333, 0.9666666666666667, 0.933...</td>\n",
       "      <td>0.953333</td>\n",
       "      <td>(sepal_length, petal_width)</td>\n",
       "      <td>0.034274</td>\n",
       "      <td>0.026667</td>\n",
       "      <td>0.013333</td>\n",
       "    </tr>\n",
       "    <tr>\n",
       "      <th>7</th>\n",
       "      <td>(1, 2)</td>\n",
       "      <td>[0.9333333333333333, 1.0, 0.9, 0.9333333333333...</td>\n",
       "      <td>0.953333</td>\n",
       "      <td>(sepal_width, petal_length)</td>\n",
       "      <td>0.051412</td>\n",
       "      <td>0.04</td>\n",
       "      <td>0.02</td>\n",
       "    </tr>\n",
       "    <tr>\n",
       "      <th>8</th>\n",
       "      <td>(1, 3)</td>\n",
       "      <td>[0.9333333333333333, 0.9666666666666667, 0.9, ...</td>\n",
       "      <td>0.94</td>\n",
       "      <td>(sepal_width, petal_width)</td>\n",
       "      <td>0.032061</td>\n",
       "      <td>0.024944</td>\n",
       "      <td>0.012472</td>\n",
       "    </tr>\n",
       "    <tr>\n",
       "      <th>9</th>\n",
       "      <td>(2, 3)</td>\n",
       "      <td>[0.9666666666666667, 0.9666666666666667, 0.933...</td>\n",
       "      <td>0.96</td>\n",
       "      <td>(petal_length, petal_width)</td>\n",
       "      <td>0.032061</td>\n",
       "      <td>0.024944</td>\n",
       "      <td>0.012472</td>\n",
       "    </tr>\n",
       "    <tr>\n",
       "      <th>10</th>\n",
       "      <td>(0, 1, 2)</td>\n",
       "      <td>[0.9333333333333333, 1.0, 0.9, 0.9333333333333...</td>\n",
       "      <td>0.953333</td>\n",
       "      <td>(sepal_length, sepal_width, petal_length)</td>\n",
       "      <td>0.051412</td>\n",
       "      <td>0.04</td>\n",
       "      <td>0.02</td>\n",
       "    </tr>\n",
       "    <tr>\n",
       "      <th>11</th>\n",
       "      <td>(0, 1, 3)</td>\n",
       "      <td>[0.9, 0.9666666666666667, 0.9333333333333333, ...</td>\n",
       "      <td>0.946667</td>\n",
       "      <td>(sepal_length, sepal_width, petal_width)</td>\n",
       "      <td>0.043691</td>\n",
       "      <td>0.033993</td>\n",
       "      <td>0.016997</td>\n",
       "    </tr>\n",
       "    <tr>\n",
       "      <th>12</th>\n",
       "      <td>(0, 2, 3)</td>\n",
       "      <td>[0.9666666666666667, 0.9666666666666667, 0.933...</td>\n",
       "      <td>0.966667</td>\n",
       "      <td>(sepal_length, petal_length, petal_width)</td>\n",
       "      <td>0.027096</td>\n",
       "      <td>0.021082</td>\n",
       "      <td>0.010541</td>\n",
       "    </tr>\n",
       "    <tr>\n",
       "      <th>13</th>\n",
       "      <td>(1, 2, 3)</td>\n",
       "      <td>[0.9666666666666667, 1.0, 0.9333333333333333, ...</td>\n",
       "      <td>0.973333</td>\n",
       "      <td>(sepal_width, petal_length, petal_width)</td>\n",
       "      <td>0.032061</td>\n",
       "      <td>0.024944</td>\n",
       "      <td>0.012472</td>\n",
       "    </tr>\n",
       "    <tr>\n",
       "      <th>14</th>\n",
       "      <td>(0, 1, 2, 3)</td>\n",
       "      <td>[0.9666666666666667, 1.0, 0.9333333333333333, ...</td>\n",
       "      <td>0.973333</td>\n",
       "      <td>(sepal_length, sepal_width, petal_length, peta...</td>\n",
       "      <td>0.032061</td>\n",
       "      <td>0.024944</td>\n",
       "      <td>0.012472</td>\n",
       "    </tr>\n",
       "  </tbody>\n",
       "</table>\n",
       "</div>"
      ],
      "text/plain": [
       "     feature_idx                                          cv_scores avg_score  \\\n",
       "0           (0,)  [0.6666666666666666, 0.7333333333333333, 0.766...  0.753333   \n",
       "1           (1,)  [0.5333333333333333, 0.5666666666666667, 0.533...      0.56   \n",
       "2           (2,)  [0.9333333333333333, 1.0, 0.9, 0.9333333333333...  0.953333   \n",
       "3           (3,)  [1.0, 0.9666666666666667, 0.9, 0.9333333333333...      0.96   \n",
       "4         (0, 1)  [0.7333333333333333, 0.8333333333333334, 0.766...      0.82   \n",
       "5         (0, 2)  [0.9333333333333333, 1.0, 0.9, 0.9333333333333...  0.953333   \n",
       "6         (0, 3)  [0.9333333333333333, 0.9666666666666667, 0.933...  0.953333   \n",
       "7         (1, 2)  [0.9333333333333333, 1.0, 0.9, 0.9333333333333...  0.953333   \n",
       "8         (1, 3)  [0.9333333333333333, 0.9666666666666667, 0.9, ...      0.94   \n",
       "9         (2, 3)  [0.9666666666666667, 0.9666666666666667, 0.933...      0.96   \n",
       "10     (0, 1, 2)  [0.9333333333333333, 1.0, 0.9, 0.9333333333333...  0.953333   \n",
       "11     (0, 1, 3)  [0.9, 0.9666666666666667, 0.9333333333333333, ...  0.946667   \n",
       "12     (0, 2, 3)  [0.9666666666666667, 0.9666666666666667, 0.933...  0.966667   \n",
       "13     (1, 2, 3)  [0.9666666666666667, 1.0, 0.9333333333333333, ...  0.973333   \n",
       "14  (0, 1, 2, 3)  [0.9666666666666667, 1.0, 0.9333333333333333, ...  0.973333   \n",
       "\n",
       "                                        feature_names  ci_bound   std_dev  \\\n",
       "0                                     (sepal_length,)  0.069612   0.05416   \n",
       "1                                      (sepal_width,)  0.049963  0.038873   \n",
       "2                                     (petal_length,)  0.051412      0.04   \n",
       "3                                      (petal_width,)  0.049963  0.038873   \n",
       "4                         (sepal_length, sepal_width)  0.079462  0.061824   \n",
       "5                        (sepal_length, petal_length)  0.051412      0.04   \n",
       "6                         (sepal_length, petal_width)  0.034274  0.026667   \n",
       "7                         (sepal_width, petal_length)  0.051412      0.04   \n",
       "8                          (sepal_width, petal_width)  0.032061  0.024944   \n",
       "9                         (petal_length, petal_width)  0.032061  0.024944   \n",
       "10          (sepal_length, sepal_width, petal_length)  0.051412      0.04   \n",
       "11           (sepal_length, sepal_width, petal_width)  0.043691  0.033993   \n",
       "12          (sepal_length, petal_length, petal_width)  0.027096  0.021082   \n",
       "13           (sepal_width, petal_length, petal_width)  0.032061  0.024944   \n",
       "14  (sepal_length, sepal_width, petal_length, peta...  0.032061  0.024944   \n",
       "\n",
       "     std_err  \n",
       "0    0.02708  \n",
       "1   0.019437  \n",
       "2       0.02  \n",
       "3   0.019437  \n",
       "4   0.030912  \n",
       "5       0.02  \n",
       "6   0.013333  \n",
       "7       0.02  \n",
       "8   0.012472  \n",
       "9   0.012472  \n",
       "10      0.02  \n",
       "11  0.016997  \n",
       "12  0.010541  \n",
       "13  0.012472  \n",
       "14  0.012472  "
      ]
     },
     "execution_count": 47,
     "metadata": {},
     "output_type": "execute_result"
    }
   ],
   "source": [
    "metric_df = pd.DataFrame.from_dict(model.get_metric_dict()).T\n",
    "metric_df"
   ]
  },
  {
   "cell_type": "code",
   "execution_count": 49,
   "metadata": {
    "colab": {
     "base_uri": "https://localhost:8080/",
     "height": 822
    },
    "id": "XFjOQE7az8xf",
    "outputId": "8da88c45-fa52-4d78-ec8f-189c7b713bd6"
   },
   "outputs": [
    {
     "data": {
      "image/png": "[encoded data removed]",
      "text/plain": [
       "<Figure size 640x480 with 1 Axes>"
      ]
     },
     "metadata": {},
     "output_type": "display_data"
    }
   ],
   "source": [
    "# plot metric\n",
    "import matplotlib.pyplot as plt\n",
    "\n",
    "plt.plot([str(k) for k in metric_df['feature_names']],metric_df['avg_score'])\n",
    "plt.xticks(rotation=90)\n",
    "plt.show()"
   ]
  },
  {
   "cell_type": "markdown",
   "metadata": {
    "id": "cjSKQ1Ys5qBc"
   },
   "source": [
    "### Regression "
   ]
  },
  {
   "cell_type": "code",
   "execution_count": 51,
   "metadata": {
    "colab": {
     "base_uri": "https://localhost:8080/",
     "height": 206
    },
    "id": "2IfSq-ON26IJ",
    "outputId": "35243abd-14ad-4266-ab12-82c6662eaab8"
   },
   "outputs": [
    {
     "data": {
      "text/html": [
       "<div>\n",
       "<style scoped>\n",
       "    .dataframe tbody tr th:only-of-type {\n",
       "        vertical-align: middle;\n",
       "    }\n",
       "\n",
       "    .dataframe tbody tr th {\n",
       "        vertical-align: top;\n",
       "    }\n",
       "\n",
       "    .dataframe thead th {\n",
       "        text-align: right;\n",
       "    }\n",
       "</style>\n",
       "<table border=\"1\" class=\"dataframe\">\n",
       "  <thead>\n",
       "    <tr style=\"text-align: right;\">\n",
       "      <th></th>\n",
       "      <th>crim</th>\n",
       "      <th>zn</th>\n",
       "      <th>indus</th>\n",
       "      <th>chas</th>\n",
       "      <th>nox</th>\n",
       "      <th>rm</th>\n",
       "      <th>age</th>\n",
       "      <th>dis</th>\n",
       "      <th>rad</th>\n",
       "      <th>tax</th>\n",
       "      <th>ptratio</th>\n",
       "      <th>b</th>\n",
       "      <th>lstat</th>\n",
       "      <th>medv</th>\n",
       "    </tr>\n",
       "  </thead>\n",
       "  <tbody>\n",
       "    <tr>\n",
       "      <th>0</th>\n",
       "      <td>0.00632</td>\n",
       "      <td>18.0</td>\n",
       "      <td>2.31</td>\n",
       "      <td>0</td>\n",
       "      <td>0.538</td>\n",
       "      <td>6.575</td>\n",
       "      <td>65.2</td>\n",
       "      <td>4.0900</td>\n",
       "      <td>1</td>\n",
       "      <td>296</td>\n",
       "      <td>15.3</td>\n",
       "      <td>396.90</td>\n",
       "      <td>4.98</td>\n",
       "      <td>24.0</td>\n",
       "    </tr>\n",
       "    <tr>\n",
       "      <th>1</th>\n",
       "      <td>0.02731</td>\n",
       "      <td>0.0</td>\n",
       "      <td>7.07</td>\n",
       "      <td>0</td>\n",
       "      <td>0.469</td>\n",
       "      <td>6.421</td>\n",
       "      <td>78.9</td>\n",
       "      <td>4.9671</td>\n",
       "      <td>2</td>\n",
       "      <td>242</td>\n",
       "      <td>17.8</td>\n",
       "      <td>396.90</td>\n",
       "      <td>9.14</td>\n",
       "      <td>21.6</td>\n",
       "    </tr>\n",
       "    <tr>\n",
       "      <th>2</th>\n",
       "      <td>0.02729</td>\n",
       "      <td>0.0</td>\n",
       "      <td>7.07</td>\n",
       "      <td>0</td>\n",
       "      <td>0.469</td>\n",
       "      <td>7.185</td>\n",
       "      <td>61.1</td>\n",
       "      <td>4.9671</td>\n",
       "      <td>2</td>\n",
       "      <td>242</td>\n",
       "      <td>17.8</td>\n",
       "      <td>392.83</td>\n",
       "      <td>4.03</td>\n",
       "      <td>34.7</td>\n",
       "    </tr>\n",
       "    <tr>\n",
       "      <th>3</th>\n",
       "      <td>0.03237</td>\n",
       "      <td>0.0</td>\n",
       "      <td>2.18</td>\n",
       "      <td>0</td>\n",
       "      <td>0.458</td>\n",
       "      <td>6.998</td>\n",
       "      <td>45.8</td>\n",
       "      <td>6.0622</td>\n",
       "      <td>3</td>\n",
       "      <td>222</td>\n",
       "      <td>18.7</td>\n",
       "      <td>394.63</td>\n",
       "      <td>2.94</td>\n",
       "      <td>33.4</td>\n",
       "    </tr>\n",
       "    <tr>\n",
       "      <th>4</th>\n",
       "      <td>0.06905</td>\n",
       "      <td>0.0</td>\n",
       "      <td>2.18</td>\n",
       "      <td>0</td>\n",
       "      <td>0.458</td>\n",
       "      <td>7.147</td>\n",
       "      <td>54.2</td>\n",
       "      <td>6.0622</td>\n",
       "      <td>3</td>\n",
       "      <td>222</td>\n",
       "      <td>18.7</td>\n",
       "      <td>396.90</td>\n",
       "      <td>5.33</td>\n",
       "      <td>36.2</td>\n",
       "    </tr>\n",
       "  </tbody>\n",
       "</table>\n",
       "</div>"
      ],
      "text/plain": [
       "      crim    zn  indus  chas    nox     rm   age     dis  rad  tax  ptratio  \\\n",
       "0  0.00632  18.0   2.31     0  0.538  6.575  65.2  4.0900    1  296     15.3   \n",
       "1  0.02731   0.0   7.07     0  0.469  6.421  78.9  4.9671    2  242     17.8   \n",
       "2  0.02729   0.0   7.07     0  0.469  7.185  61.1  4.9671    2  242     17.8   \n",
       "3  0.03237   0.0   2.18     0  0.458  6.998  45.8  6.0622    3  222     18.7   \n",
       "4  0.06905   0.0   2.18     0  0.458  7.147  54.2  6.0622    3  222     18.7   \n",
       "\n",
       "        b  lstat  medv  \n",
       "0  396.90   4.98  24.0  \n",
       "1  396.90   9.14  21.6  \n",
       "2  392.83   4.03  34.7  \n",
       "3  394.63   2.94  33.4  \n",
       "4  396.90   5.33  36.2  "
      ]
     },
     "execution_count": 51,
     "metadata": {},
     "output_type": "execute_result"
    }
   ],
   "source": [
    "# load data\n",
    "df = pd.read_csv('https://raw.githubusercontent.com/selva86/datasets/master/BostonHousing.csv')\n",
    "df.head()"
   ]
  },
  {
   "cell_type": "code",
   "execution_count": 52,
   "metadata": {
    "id": "BhgJF7VH57Lj"
   },
   "outputs": [],
   "source": [
    "# independent columns and dependent column\n",
    "x = df.iloc[:,:-1]\n",
    "y = df['medv']\n",
    "\n",
    "# split data (prevent data leakage)\n",
    "from sklearn.model_selection import train_test_split\n",
    "X_train, X_test, y_train, y_test = train_test_split(x, y, test_size=0.2, random_state=1)"
   ]
  },
  {
   "cell_type": "code",
   "execution_count": 53,
   "metadata": {
    "colab": {
     "base_uri": "https://localhost:8080/"
    },
    "id": "Oazuw38-6Imj",
    "outputId": "e93d19e0-6299-4ee0-e850-37df45071dec"
   },
   "outputs": [
    {
     "name": "stdout",
     "output_type": "stream",
     "text": [
      "(404, 13)\n",
      "(102, 13)\n"
     ]
    }
   ],
   "source": [
    "print(X_train.shape)\n",
    "print(X_test.shape)"
   ]
  },
  {
   "cell_type": "code",
   "execution_count": 54,
   "metadata": {
    "colab": {
     "base_uri": "https://localhost:8080/",
     "height": 206
    },
    "id": "GQosEmKu6Omq",
    "outputId": "244f8e85-7d07-4d56-e44d-466572311ee8"
   },
   "outputs": [
    {
     "data": {
      "text/html": [
       "<div>\n",
       "<style scoped>\n",
       "    .dataframe tbody tr th:only-of-type {\n",
       "        vertical-align: middle;\n",
       "    }\n",
       "\n",
       "    .dataframe tbody tr th {\n",
       "        vertical-align: top;\n",
       "    }\n",
       "\n",
       "    .dataframe thead th {\n",
       "        text-align: right;\n",
       "    }\n",
       "</style>\n",
       "<table border=\"1\" class=\"dataframe\">\n",
       "  <thead>\n",
       "    <tr style=\"text-align: right;\">\n",
       "      <th></th>\n",
       "      <th>crim</th>\n",
       "      <th>zn</th>\n",
       "      <th>indus</th>\n",
       "      <th>chas</th>\n",
       "      <th>nox</th>\n",
       "      <th>rm</th>\n",
       "      <th>age</th>\n",
       "      <th>dis</th>\n",
       "      <th>rad</th>\n",
       "      <th>tax</th>\n",
       "      <th>ptratio</th>\n",
       "      <th>b</th>\n",
       "      <th>lstat</th>\n",
       "    </tr>\n",
       "  </thead>\n",
       "  <tbody>\n",
       "    <tr>\n",
       "      <th>42</th>\n",
       "      <td>0.14150</td>\n",
       "      <td>0.0</td>\n",
       "      <td>6.91</td>\n",
       "      <td>0</td>\n",
       "      <td>0.448</td>\n",
       "      <td>6.169</td>\n",
       "      <td>6.6</td>\n",
       "      <td>5.7209</td>\n",
       "      <td>3</td>\n",
       "      <td>233</td>\n",
       "      <td>17.9</td>\n",
       "      <td>383.37</td>\n",
       "      <td>5.81</td>\n",
       "    </tr>\n",
       "    <tr>\n",
       "      <th>58</th>\n",
       "      <td>0.15445</td>\n",
       "      <td>25.0</td>\n",
       "      <td>5.13</td>\n",
       "      <td>0</td>\n",
       "      <td>0.453</td>\n",
       "      <td>6.145</td>\n",
       "      <td>29.2</td>\n",
       "      <td>7.8148</td>\n",
       "      <td>8</td>\n",
       "      <td>284</td>\n",
       "      <td>19.7</td>\n",
       "      <td>390.68</td>\n",
       "      <td>6.86</td>\n",
       "    </tr>\n",
       "    <tr>\n",
       "      <th>385</th>\n",
       "      <td>16.81180</td>\n",
       "      <td>0.0</td>\n",
       "      <td>18.10</td>\n",
       "      <td>0</td>\n",
       "      <td>0.700</td>\n",
       "      <td>5.277</td>\n",
       "      <td>98.1</td>\n",
       "      <td>1.4261</td>\n",
       "      <td>24</td>\n",
       "      <td>666</td>\n",
       "      <td>20.2</td>\n",
       "      <td>396.90</td>\n",
       "      <td>30.81</td>\n",
       "    </tr>\n",
       "    <tr>\n",
       "      <th>78</th>\n",
       "      <td>0.05646</td>\n",
       "      <td>0.0</td>\n",
       "      <td>12.83</td>\n",
       "      <td>0</td>\n",
       "      <td>0.437</td>\n",
       "      <td>6.232</td>\n",
       "      <td>53.7</td>\n",
       "      <td>5.0141</td>\n",
       "      <td>5</td>\n",
       "      <td>398</td>\n",
       "      <td>18.7</td>\n",
       "      <td>386.40</td>\n",
       "      <td>12.34</td>\n",
       "    </tr>\n",
       "    <tr>\n",
       "      <th>424</th>\n",
       "      <td>8.79212</td>\n",
       "      <td>0.0</td>\n",
       "      <td>18.10</td>\n",
       "      <td>0</td>\n",
       "      <td>0.584</td>\n",
       "      <td>5.565</td>\n",
       "      <td>70.6</td>\n",
       "      <td>2.0635</td>\n",
       "      <td>24</td>\n",
       "      <td>666</td>\n",
       "      <td>20.2</td>\n",
       "      <td>3.65</td>\n",
       "      <td>17.16</td>\n",
       "    </tr>\n",
       "  </tbody>\n",
       "</table>\n",
       "</div>"
      ],
      "text/plain": [
       "         crim    zn  indus  chas    nox     rm   age     dis  rad  tax  \\\n",
       "42    0.14150   0.0   6.91     0  0.448  6.169   6.6  5.7209    3  233   \n",
       "58    0.15445  25.0   5.13     0  0.453  6.145  29.2  7.8148    8  284   \n",
       "385  16.81180   0.0  18.10     0  0.700  5.277  98.1  1.4261   24  666   \n",
       "78    0.05646   0.0  12.83     0  0.437  6.232  53.7  5.0141    5  398   \n",
       "424   8.79212   0.0  18.10     0  0.584  5.565  70.6  2.0635   24  666   \n",
       "\n",
       "     ptratio       b  lstat  \n",
       "42      17.9  383.37   5.81  \n",
       "58      19.7  390.68   6.86  \n",
       "385     20.2  396.90  30.81  \n",
       "78      18.7  386.40  12.34  \n",
       "424     20.2    3.65  17.16  "
      ]
     },
     "execution_count": 54,
     "metadata": {},
     "output_type": "execute_result"
    }
   ],
   "source": [
    "X_train.head()"
   ]
  },
  {
   "cell_type": "code",
   "execution_count": 55,
   "metadata": {
    "id": "TxRXClZh4VLB"
   },
   "outputs": [],
   "source": [
    "# scaling data\n",
    "from sklearn.preprocessing import StandardScaler\n",
    "\n",
    "sc = StandardScaler()\n",
    "X_train = sc.fit_transform(X_train)\n",
    "X_test = sc.transform(X_test)"
   ]
  },
  {
   "cell_type": "code",
   "execution_count": 59,
   "metadata": {
    "colab": {
     "base_uri": "https://localhost:8080/"
    },
    "id": "KeEXAo6l4lC2",
    "outputId": "5ec3ab81-33d3-4d44-89f1-071b55902fd9"
   },
   "outputs": [
    {
     "name": "stdout",
     "output_type": "stream",
     "text": [
      "=======================================================\n",
      "training result after cross validation :  [0.75350272 0.69202385 0.68225547 0.66901198 0.71576764]\n",
      "testing result after cross validation :  [0.24918226 0.77262151 0.84151155 0.50177067 0.89236395]\n",
      "=======================================================\n",
      "training result mean :  0.7025123301096212\n",
      "testing result mean :  0.6514899901155404\n",
      "=======================================================\n"
     ]
    }
   ],
   "source": [
    "# baseline model\n",
    "import numpy as np\n",
    "from sklearn.metrics import r2_score\n",
    "model = LinearRegression()\n",
    "\n",
    "print('='*55)\n",
    "# result getting after cross validation\n",
    "print(\"training result after cross validation : \",cross_val_score(model, X_train, y_train, cv=5, scoring='r2'))\n",
    "print(\"testing result after cross validation : \",cross_val_score(model, X_test, y_test, cv=5, scoring='r2'))\n",
    "\n",
    "print('='*55)\n",
    "# mean of result\n",
    "print(\"training result mean : \",np.mean(cross_val_score(model, X_train, y_train, cv=5, scoring='r2')))\n",
    "print(\"testing result mean : \",np.mean(cross_val_score(model, X_test, y_test, cv=5, scoring='r2')))\n",
    "print('='*55)"
   ]
  },
  {
   "cell_type": "code",
   "execution_count": 61,
   "metadata": {
    "colab": {
     "base_uri": "https://localhost:8080/"
    },
    "id": "xbS5XcWy6RIL",
    "outputId": "20e26acf-94db-4490-8d18-1e12cc67ff10"
   },
   "outputs": [
    {
     "name": "stderr",
     "output_type": "stream",
     "text": [
      "Features: 8191/8191"
     ]
    }
   ],
   "source": [
    "# output column is numerical\n",
    "lr = LinearRegression()\n",
    "\n",
    "# for Exhaustive Feature Selector\n",
    "exh = EFS(lr, max_features=13, scoring='r2', cv=10, print_progress=True, n_jobs=-1)\n",
    "\n",
    "# Exhaustive Feature Selector fit on training data\n",
    "sel = exh.fit(X_train, y_train)"
   ]
  },
  {
   "cell_type": "code",
   "execution_count": 62,
   "metadata": {
    "colab": {
     "base_uri": "https://localhost:8080/"
    },
    "id": "H7dP4Zpv6mj-",
    "outputId": "d734de64-633d-4bae-d3d9-a0348388e5d8"
   },
   "outputs": [
    {
     "data": {
      "text/plain": [
       "0.6827988156800064"
      ]
     },
     "execution_count": 62,
     "metadata": {},
     "output_type": "execute_result"
    }
   ],
   "source": [
    "sel.best_score_"
   ]
  },
  {
   "cell_type": "code",
   "execution_count": 63,
   "metadata": {
    "colab": {
     "base_uri": "https://localhost:8080/"
    },
    "id": "2dkvyghX8I1G",
    "outputId": "53af6211-548f-433d-cf2a-13bbd478464e"
   },
   "outputs": [
    {
     "data": {
      "text/plain": [
       "('0', '1', '4', '5', '7', '8', '9', '10', '11', '12')"
      ]
     },
     "execution_count": 63,
     "metadata": {},
     "output_type": "execute_result"
    }
   ],
   "source": [
    "sel.best_feature_names_"
   ]
  },
  {
   "cell_type": "code",
   "execution_count": 65,
   "metadata": {
    "colab": {
     "base_uri": "https://localhost:8080/",
     "height": 641
    },
    "id": "fWrmeieB8LtR",
    "outputId": "5410b44a-c1ca-406d-cf8a-4557f5e3ad8c"
   },
   "outputs": [
    {
     "data": {
      "text/html": [
       "<div>\n",
       "<style scoped>\n",
       "    .dataframe tbody tr th:only-of-type {\n",
       "        vertical-align: middle;\n",
       "    }\n",
       "\n",
       "    .dataframe tbody tr th {\n",
       "        vertical-align: top;\n",
       "    }\n",
       "\n",
       "    .dataframe thead th {\n",
       "        text-align: right;\n",
       "    }\n",
       "</style>\n",
       "<table border=\"1\" class=\"dataframe\">\n",
       "  <thead>\n",
       "    <tr style=\"text-align: right;\">\n",
       "      <th></th>\n",
       "      <th>feature_idx</th>\n",
       "      <th>cv_scores</th>\n",
       "      <th>avg_score</th>\n",
       "      <th>feature_names</th>\n",
       "      <th>ci_bound</th>\n",
       "      <th>std_dev</th>\n",
       "      <th>std_err</th>\n",
       "    </tr>\n",
       "  </thead>\n",
       "  <tbody>\n",
       "    <tr>\n",
       "      <th>0</th>\n",
       "      <td>(0,)</td>\n",
       "      <td>[0.03941987916919154, 0.12695789031653215, -0....</td>\n",
       "      <td>0.129009</td>\n",
       "      <td>(0,)</td>\n",
       "      <td>0.064226</td>\n",
       "      <td>0.086475</td>\n",
       "      <td>0.028825</td>\n",
       "    </tr>\n",
       "    <tr>\n",
       "      <th>1</th>\n",
       "      <td>(1,)</td>\n",
       "      <td>[0.14236716209182765, -0.10598329567838705, 0....</td>\n",
       "      <td>0.100963</td>\n",
       "      <td>(1,)</td>\n",
       "      <td>0.076751</td>\n",
       "      <td>0.103339</td>\n",
       "      <td>0.034446</td>\n",
       "    </tr>\n",
       "    <tr>\n",
       "      <th>2</th>\n",
       "      <td>(2,)</td>\n",
       "      <td>[0.4055276765549378, 0.0029283993633670846, -0...</td>\n",
       "      <td>0.210465</td>\n",
       "      <td>(2,)</td>\n",
       "      <td>0.139709</td>\n",
       "      <td>0.188107</td>\n",
       "      <td>0.062702</td>\n",
       "    </tr>\n",
       "    <tr>\n",
       "      <th>3</th>\n",
       "      <td>(3,)</td>\n",
       "      <td>[-0.07110886674980432, -0.08269807310551558, 0...</td>\n",
       "      <td>-0.025663</td>\n",
       "      <td>(3,)</td>\n",
       "      <td>0.055426</td>\n",
       "      <td>0.074627</td>\n",
       "      <td>0.024876</td>\n",
       "    </tr>\n",
       "    <tr>\n",
       "      <th>4</th>\n",
       "      <td>(4,)</td>\n",
       "      <td>[0.18869831316675012, 0.03113193162308736, 0.0...</td>\n",
       "      <td>0.17746</td>\n",
       "      <td>(4,)</td>\n",
       "      <td>0.114827</td>\n",
       "      <td>0.154605</td>\n",
       "      <td>0.051535</td>\n",
       "    </tr>\n",
       "    <tr>\n",
       "      <th>...</th>\n",
       "      <td>...</td>\n",
       "      <td>...</td>\n",
       "      <td>...</td>\n",
       "      <td>...</td>\n",
       "      <td>...</td>\n",
       "      <td>...</td>\n",
       "      <td>...</td>\n",
       "    </tr>\n",
       "    <tr>\n",
       "      <th>8186</th>\n",
       "      <td>(0, 1, 2, 4, 5, 6, 7, 8, 9, 10, 11, 12)</td>\n",
       "      <td>[0.8791441026861513, 0.5762263847142652, 0.435...</td>\n",
       "      <td>0.679213</td>\n",
       "      <td>(0, 1, 2, 4, 5, 6, 7, 8, 9, 10, 11, 12)</td>\n",
       "      <td>0.096133</td>\n",
       "      <td>0.129436</td>\n",
       "      <td>0.043145</td>\n",
       "    </tr>\n",
       "    <tr>\n",
       "      <th>8187</th>\n",
       "      <td>(0, 1, 3, 4, 5, 6, 7, 8, 9, 10, 11, 12)</td>\n",
       "      <td>[0.8731761731752511, 0.5384374917854686, 0.458...</td>\n",
       "      <td>0.679018</td>\n",
       "      <td>(0, 1, 3, 4, 5, 6, 7, 8, 9, 10, 11, 12)</td>\n",
       "      <td>0.098986</td>\n",
       "      <td>0.133276</td>\n",
       "      <td>0.044425</td>\n",
       "    </tr>\n",
       "    <tr>\n",
       "      <th>8188</th>\n",
       "      <td>(0, 2, 3, 4, 5, 6, 7, 8, 9, 10, 11, 12)</td>\n",
       "      <td>[0.8494627278072392, 0.5454006150975992, 0.444...</td>\n",
       "      <td>0.66547</td>\n",
       "      <td>(0, 2, 3, 4, 5, 6, 7, 8, 9, 10, 11, 12)</td>\n",
       "      <td>0.099036</td>\n",
       "      <td>0.133343</td>\n",
       "      <td>0.044448</td>\n",
       "    </tr>\n",
       "    <tr>\n",
       "      <th>8189</th>\n",
       "      <td>(1, 2, 3, 4, 5, 6, 7, 8, 9, 10, 11, 12)</td>\n",
       "      <td>[0.8358451877451423, 0.5448662375728602, 0.449...</td>\n",
       "      <td>0.670075</td>\n",
       "      <td>(1, 2, 3, 4, 5, 6, 7, 8, 9, 10, 11, 12)</td>\n",
       "      <td>0.094633</td>\n",
       "      <td>0.127415</td>\n",
       "      <td>0.042472</td>\n",
       "    </tr>\n",
       "    <tr>\n",
       "      <th>8190</th>\n",
       "      <td>(0, 1, 2, 3, 4, 5, 6, 7, 8, 9, 10, 11, 12)</td>\n",
       "      <td>[0.8674059553865394, 0.5385295808629278, 0.458...</td>\n",
       "      <td>0.677417</td>\n",
       "      <td>(0, 1, 2, 3, 4, 5, 6, 7, 8, 9, 10, 11, 12)</td>\n",
       "      <td>0.098114</td>\n",
       "      <td>0.132102</td>\n",
       "      <td>0.044034</td>\n",
       "    </tr>\n",
       "  </tbody>\n",
       "</table>\n",
       "<p>8191 rows × 7 columns</p>\n",
       "</div>"
      ],
      "text/plain": [
       "                                     feature_idx  \\\n",
       "0                                           (0,)   \n",
       "1                                           (1,)   \n",
       "2                                           (2,)   \n",
       "3                                           (3,)   \n",
       "4                                           (4,)   \n",
       "...                                          ...   \n",
       "8186     (0, 1, 2, 4, 5, 6, 7, 8, 9, 10, 11, 12)   \n",
       "8187     (0, 1, 3, 4, 5, 6, 7, 8, 9, 10, 11, 12)   \n",
       "8188     (0, 2, 3, 4, 5, 6, 7, 8, 9, 10, 11, 12)   \n",
       "8189     (1, 2, 3, 4, 5, 6, 7, 8, 9, 10, 11, 12)   \n",
       "8190  (0, 1, 2, 3, 4, 5, 6, 7, 8, 9, 10, 11, 12)   \n",
       "\n",
       "                                              cv_scores avg_score  \\\n",
       "0     [0.03941987916919154, 0.12695789031653215, -0....  0.129009   \n",
       "1     [0.14236716209182765, -0.10598329567838705, 0....  0.100963   \n",
       "2     [0.4055276765549378, 0.0029283993633670846, -0...  0.210465   \n",
       "3     [-0.07110886674980432, -0.08269807310551558, 0... -0.025663   \n",
       "4     [0.18869831316675012, 0.03113193162308736, 0.0...   0.17746   \n",
       "...                                                 ...       ...   \n",
       "8186  [0.8791441026861513, 0.5762263847142652, 0.435...  0.679213   \n",
       "8187  [0.8731761731752511, 0.5384374917854686, 0.458...  0.679018   \n",
       "8188  [0.8494627278072392, 0.5454006150975992, 0.444...   0.66547   \n",
       "8189  [0.8358451877451423, 0.5448662375728602, 0.449...  0.670075   \n",
       "8190  [0.8674059553865394, 0.5385295808629278, 0.458...  0.677417   \n",
       "\n",
       "                                   feature_names  ci_bound   std_dev   std_err  \n",
       "0                                           (0,)  0.064226  0.086475  0.028825  \n",
       "1                                           (1,)  0.076751  0.103339  0.034446  \n",
       "2                                           (2,)  0.139709  0.188107  0.062702  \n",
       "3                                           (3,)  0.055426  0.074627  0.024876  \n",
       "4                                           (4,)  0.114827  0.154605  0.051535  \n",
       "...                                          ...       ...       ...       ...  \n",
       "8186     (0, 1, 2, 4, 5, 6, 7, 8, 9, 10, 11, 12)  0.096133  0.129436  0.043145  \n",
       "8187     (0, 1, 3, 4, 5, 6, 7, 8, 9, 10, 11, 12)  0.098986  0.133276  0.044425  \n",
       "8188     (0, 2, 3, 4, 5, 6, 7, 8, 9, 10, 11, 12)  0.099036  0.133343  0.044448  \n",
       "8189     (1, 2, 3, 4, 5, 6, 7, 8, 9, 10, 11, 12)  0.094633  0.127415  0.042472  \n",
       "8190  (0, 1, 2, 3, 4, 5, 6, 7, 8, 9, 10, 11, 12)  0.098114  0.132102  0.044034  \n",
       "\n",
       "[8191 rows x 7 columns]"
      ]
     },
     "execution_count": 65,
     "metadata": {},
     "output_type": "execute_result"
    }
   ],
   "source": [
    "# convert into dataframe\n",
    "metric_df = pd.DataFrame.from_dict(sel.get_metric_dict()).T\n",
    "metric_df"
   ]
  },
  {
   "cell_type": "code",
   "execution_count": 66,
   "metadata": {
    "id": "hGKIzeSK8ZR5"
   },
   "outputs": [],
   "source": [
    "# function for adjusted r2 score\n",
    "def adjust_r2(r2, num_examples, num_features):\n",
    "    coef = (num_examples - 1) / (num_examples - num_features - 1)\n",
    "    return 1 - (1 - r2) * coef"
   ]
  },
  {
   "cell_type": "code",
   "execution_count": 67,
   "metadata": {
    "id": "tNvN_yCp8z15"
   },
   "outputs": [],
   "source": [
    "# no. of rows in training data\n",
    "metric_df['observations'] = 404\n",
    "# lenght of feature index\n",
    "metric_df['num_features'] = metric_df['feature_idx'].apply(lambda x:len(x))\n",
    "# calculate the adjusted r2 score\n",
    "metric_df['adjusted_r2'] = adjust_r2(metric_df['avg_score'],metric_df['observations'],metric_df['num_features'])"
   ]
  },
  {
   "cell_type": "code",
   "execution_count": 68,
   "metadata": {
    "colab": {
     "base_uri": "https://localhost:8080/",
     "height": 835
    },
    "id": "W99XzsEX9ixd",
    "outputId": "f29a74ac-9397-4dc8-800b-205b0e0b6a2c"
   },
   "outputs": [
    {
     "data": {
      "text/html": [
       "<div>\n",
       "<style scoped>\n",
       "    .dataframe tbody tr th:only-of-type {\n",
       "        vertical-align: middle;\n",
       "    }\n",
       "\n",
       "    .dataframe tbody tr th {\n",
       "        vertical-align: top;\n",
       "    }\n",
       "\n",
       "    .dataframe thead th {\n",
       "        text-align: right;\n",
       "    }\n",
       "</style>\n",
       "<table border=\"1\" class=\"dataframe\">\n",
       "  <thead>\n",
       "    <tr style=\"text-align: right;\">\n",
       "      <th></th>\n",
       "      <th>feature_idx</th>\n",
       "      <th>cv_scores</th>\n",
       "      <th>avg_score</th>\n",
       "      <th>feature_names</th>\n",
       "      <th>ci_bound</th>\n",
       "      <th>std_dev</th>\n",
       "      <th>std_err</th>\n",
       "      <th>observations</th>\n",
       "      <th>num_features</th>\n",
       "      <th>adjusted_r2</th>\n",
       "    </tr>\n",
       "  </thead>\n",
       "  <tbody>\n",
       "    <tr>\n",
       "      <th>7975</th>\n",
       "      <td>(0, 1, 4, 5, 7, 8, 9, 10, 11, 12)</td>\n",
       "      <td>[0.8855189158291968, 0.5742220049707848, 0.437...</td>\n",
       "      <td>0.682799</td>\n",
       "      <td>(0, 1, 4, 5, 7, 8, 9, 10, 11, 12)</td>\n",
       "      <td>0.096995</td>\n",
       "      <td>0.130595</td>\n",
       "      <td>0.043532</td>\n",
       "      <td>404</td>\n",
       "      <td>10</td>\n",
       "      <td>0.674728</td>\n",
       "    </tr>\n",
       "    <tr>\n",
       "      <th>7408</th>\n",
       "      <td>(0, 1, 4, 5, 7, 8, 9, 10, 12)</td>\n",
       "      <td>[0.8717831363927698, 0.5819307800982587, 0.462...</td>\n",
       "      <td>0.680483</td>\n",
       "      <td>(0, 1, 4, 5, 7, 8, 9, 10, 12)</td>\n",
       "      <td>0.090811</td>\n",
       "      <td>0.122269</td>\n",
       "      <td>0.040756</td>\n",
       "      <td>404</td>\n",
       "      <td>9</td>\n",
       "      <td>0.673185</td>\n",
       "    </tr>\n",
       "    <tr>\n",
       "      <th>8141</th>\n",
       "      <td>(0, 1, 2, 4, 5, 7, 8, 9, 10, 11, 12)</td>\n",
       "      <td>[0.8792702841985803, 0.5752245789381258, 0.438...</td>\n",
       "      <td>0.681125</td>\n",
       "      <td>(0, 1, 2, 4, 5, 7, 8, 9, 10, 11, 12)</td>\n",
       "      <td>0.096068</td>\n",
       "      <td>0.129348</td>\n",
       "      <td>0.043116</td>\n",
       "      <td>404</td>\n",
       "      <td>11</td>\n",
       "      <td>0.672177</td>\n",
       "    </tr>\n",
       "    <tr>\n",
       "      <th>8150</th>\n",
       "      <td>(0, 1, 3, 4, 5, 7, 8, 9, 10, 11, 12)</td>\n",
       "      <td>[0.8734082301119797, 0.5381382515761788, 0.461...</td>\n",
       "      <td>0.680994</td>\n",
       "      <td>(0, 1, 3, 4, 5, 7, 8, 9, 10, 11, 12)</td>\n",
       "      <td>0.098795</td>\n",
       "      <td>0.133019</td>\n",
       "      <td>0.04434</td>\n",
       "      <td>404</td>\n",
       "      <td>11</td>\n",
       "      <td>0.672043</td>\n",
       "    </tr>\n",
       "    <tr>\n",
       "      <th>8153</th>\n",
       "      <td>(0, 1, 4, 5, 6, 7, 8, 9, 10, 11, 12)</td>\n",
       "      <td>[0.8853169531726773, 0.5751761822045904, 0.434...</td>\n",
       "      <td>0.680914</td>\n",
       "      <td>(0, 1, 4, 5, 6, 7, 8, 9, 10, 11, 12)</td>\n",
       "      <td>0.097075</td>\n",
       "      <td>0.130703</td>\n",
       "      <td>0.043568</td>\n",
       "      <td>404</td>\n",
       "      <td>11</td>\n",
       "      <td>0.67196</td>\n",
       "    </tr>\n",
       "    <tr>\n",
       "      <th>...</th>\n",
       "      <td>...</td>\n",
       "      <td>...</td>\n",
       "      <td>...</td>\n",
       "      <td>...</td>\n",
       "      <td>...</td>\n",
       "      <td>...</td>\n",
       "      <td>...</td>\n",
       "      <td>...</td>\n",
       "      <td>...</td>\n",
       "      <td>...</td>\n",
       "    </tr>\n",
       "    <tr>\n",
       "      <th>53</th>\n",
       "      <td>(3, 11)</td>\n",
       "      <td>[0.07227421305699011, -0.026141441832760126, 0...</td>\n",
       "      <td>0.073485</td>\n",
       "      <td>(3, 11)</td>\n",
       "      <td>0.069934</td>\n",
       "      <td>0.09416</td>\n",
       "      <td>0.031387</td>\n",
       "      <td>404</td>\n",
       "      <td>2</td>\n",
       "      <td>0.068864</td>\n",
       "    </tr>\n",
       "    <tr>\n",
       "      <th>11</th>\n",
       "      <td>(11,)</td>\n",
       "      <td>[0.1200629474726852, 0.03143835749752166, -0.0...</td>\n",
       "      <td>0.068712</td>\n",
       "      <td>(11,)</td>\n",
       "      <td>0.071116</td>\n",
       "      <td>0.095752</td>\n",
       "      <td>0.031917</td>\n",
       "      <td>404</td>\n",
       "      <td>1</td>\n",
       "      <td>0.066396</td>\n",
       "    </tr>\n",
       "    <tr>\n",
       "      <th>49</th>\n",
       "      <td>(3, 7)</td>\n",
       "      <td>[-0.03712197227134162, -0.16717603954280014, 0...</td>\n",
       "      <td>0.057453</td>\n",
       "      <td>(3, 7)</td>\n",
       "      <td>0.09446</td>\n",
       "      <td>0.127183</td>\n",
       "      <td>0.042394</td>\n",
       "      <td>404</td>\n",
       "      <td>2</td>\n",
       "      <td>0.052752</td>\n",
       "    </tr>\n",
       "    <tr>\n",
       "      <th>7</th>\n",
       "      <td>(7,)</td>\n",
       "      <td>[0.004822573124353857, -0.09518844023749029, -...</td>\n",
       "      <td>0.038815</td>\n",
       "      <td>(7,)</td>\n",
       "      <td>0.066813</td>\n",
       "      <td>0.089958</td>\n",
       "      <td>0.029986</td>\n",
       "      <td>404</td>\n",
       "      <td>1</td>\n",
       "      <td>0.036424</td>\n",
       "    </tr>\n",
       "    <tr>\n",
       "      <th>3</th>\n",
       "      <td>(3,)</td>\n",
       "      <td>[-0.07110886674980432, -0.08269807310551558, 0...</td>\n",
       "      <td>-0.025663</td>\n",
       "      <td>(3,)</td>\n",
       "      <td>0.055426</td>\n",
       "      <td>0.074627</td>\n",
       "      <td>0.024876</td>\n",
       "      <td>404</td>\n",
       "      <td>1</td>\n",
       "      <td>-0.028215</td>\n",
       "    </tr>\n",
       "  </tbody>\n",
       "</table>\n",
       "<p>8191 rows × 10 columns</p>\n",
       "</div>"
      ],
      "text/plain": [
       "                               feature_idx  \\\n",
       "7975     (0, 1, 4, 5, 7, 8, 9, 10, 11, 12)   \n",
       "7408         (0, 1, 4, 5, 7, 8, 9, 10, 12)   \n",
       "8141  (0, 1, 2, 4, 5, 7, 8, 9, 10, 11, 12)   \n",
       "8150  (0, 1, 3, 4, 5, 7, 8, 9, 10, 11, 12)   \n",
       "8153  (0, 1, 4, 5, 6, 7, 8, 9, 10, 11, 12)   \n",
       "...                                    ...   \n",
       "53                                 (3, 11)   \n",
       "11                                   (11,)   \n",
       "49                                  (3, 7)   \n",
       "7                                     (7,)   \n",
       "3                                     (3,)   \n",
       "\n",
       "                                              cv_scores avg_score  \\\n",
       "7975  [0.8855189158291968, 0.5742220049707848, 0.437...  0.682799   \n",
       "7408  [0.8717831363927698, 0.5819307800982587, 0.462...  0.680483   \n",
       "8141  [0.8792702841985803, 0.5752245789381258, 0.438...  0.681125   \n",
       "8150  [0.8734082301119797, 0.5381382515761788, 0.461...  0.680994   \n",
       "8153  [0.8853169531726773, 0.5751761822045904, 0.434...  0.680914   \n",
       "...                                                 ...       ...   \n",
       "53    [0.07227421305699011, -0.026141441832760126, 0...  0.073485   \n",
       "11    [0.1200629474726852, 0.03143835749752166, -0.0...  0.068712   \n",
       "49    [-0.03712197227134162, -0.16717603954280014, 0...  0.057453   \n",
       "7     [0.004822573124353857, -0.09518844023749029, -...  0.038815   \n",
       "3     [-0.07110886674980432, -0.08269807310551558, 0... -0.025663   \n",
       "\n",
       "                             feature_names  ci_bound   std_dev   std_err  \\\n",
       "7975     (0, 1, 4, 5, 7, 8, 9, 10, 11, 12)  0.096995  0.130595  0.043532   \n",
       "7408         (0, 1, 4, 5, 7, 8, 9, 10, 12)  0.090811  0.122269  0.040756   \n",
       "8141  (0, 1, 2, 4, 5, 7, 8, 9, 10, 11, 12)  0.096068  0.129348  0.043116   \n",
       "8150  (0, 1, 3, 4, 5, 7, 8, 9, 10, 11, 12)  0.098795  0.133019   0.04434   \n",
       "8153  (0, 1, 4, 5, 6, 7, 8, 9, 10, 11, 12)  0.097075  0.130703  0.043568   \n",
       "...                                    ...       ...       ...       ...   \n",
       "53                                 (3, 11)  0.069934   0.09416  0.031387   \n",
       "11                                   (11,)  0.071116  0.095752  0.031917   \n",
       "49                                  (3, 7)   0.09446  0.127183  0.042394   \n",
       "7                                     (7,)  0.066813  0.089958  0.029986   \n",
       "3                                     (3,)  0.055426  0.074627  0.024876   \n",
       "\n",
       "      observations  num_features adjusted_r2  \n",
       "7975           404            10    0.674728  \n",
       "7408           404             9    0.673185  \n",
       "8141           404            11    0.672177  \n",
       "8150           404            11    0.672043  \n",
       "8153           404            11     0.67196  \n",
       "...            ...           ...         ...  \n",
       "53             404             2    0.068864  \n",
       "11             404             1    0.066396  \n",
       "49             404             2    0.052752  \n",
       "7              404             1    0.036424  \n",
       "3              404             1   -0.028215  \n",
       "\n",
       "[8191 rows x 10 columns]"
      ]
     },
     "execution_count": 68,
     "metadata": {},
     "output_type": "execute_result"
    }
   ],
   "source": [
    "# sort data on basis of adjusted r2 score\n",
    "metric_df.sort_values('adjusted_r2',ascending=False)"
   ]
  },
  {
   "cell_type": "code",
   "execution_count": 69,
   "metadata": {
    "id": "3Lj6M1vIAEX8"
   },
   "outputs": [],
   "source": [
    "# Exhaustive Feature Selector transform on training data \n",
    "X_train_sel = sel.transform(X_train)\n",
    "# Exhaustive Feature Selector transform on testing data\n",
    "X_test_sel = sel.transform(X_test)"
   ]
  },
  {
   "cell_type": "code",
   "execution_count": 70,
   "metadata": {},
   "outputs": [
    {
     "name": "stdout",
     "output_type": "stream",
     "text": [
      "=======================================================\n",
      "training result after cross validation :  [0.77695939 0.68847412 0.70201241 0.67239069 0.7103273 ]\n",
      "testing result after cross validation :  [0.61358885 0.79672468 0.81710547 0.46033796 0.91515268]\n",
      "=======================================================\n",
      "training result mean :  0.710032783921856\n",
      "testing result mean :  0.7205819296124483\n",
      "=======================================================\n"
     ]
    }
   ],
   "source": [
    "model = LinearRegression()\n",
    "\n",
    "print('='*55)\n",
    "# result getting after cross validation\n",
    "print(\"training result after cross validation : \",cross_val_score(model, X_train_sel, y_train, cv=5, scoring='r2'))\n",
    "print(\"testing result after cross validation : \",cross_val_score(model, X_test_sel, y_test, cv=5, scoring='r2'))\n",
    "\n",
    "print('='*55)\n",
    "# mean of result\n",
    "print(\"training result mean : \",np.mean(cross_val_score(model, X_train_sel, y_train, cv=5, scoring='r2')))\n",
    "print(\"testing result mean : \",np.mean(cross_val_score(model, X_test_sel, y_test, cv=5, scoring='r2')))\n",
    "print('='*55)"
   ]
  },
  {
   "cell_type": "markdown",
   "metadata": {
    "id": "QgXVbO74x9OH"
   },
   "source": [
    "### Sequential Backward Elimination"
   ]
  },
  {
   "cell_type": "code",
   "execution_count": 89,
   "metadata": {
    "colab": {
     "base_uri": "https://localhost:8080/"
    },
    "id": "ne-Z1WmIyAl6",
    "outputId": "5d343da9-438f-47a4-87fe-73318a6b254e"
   },
   "outputs": [
    {
     "name": "stdout",
     "output_type": "stream",
     "text": [
      "(404, 13)\n"
     ]
    }
   ],
   "source": [
    "from sklearn.metrics import mean_squared_error\n",
    "from mlxtend.feature_selection import SequentialFeatureSelector as SFS\n",
    "\n",
    "# load the dataset\n",
    "data = pd.read_csv('https://raw.githubusercontent.com/selva86/datasets/master/BostonHousing.csv')\n",
    "\n",
    "# separate the target variable\n",
    "X = data.drop(\"medv\", axis=1)\n",
    "y = data['medv']\n",
    "\n",
    "# split the data into train and test sets\n",
    "X_train, X_test, y_train, y_test = train_test_split(X, y, test_size=0.2, random_state=1)\n",
    "\n",
    "print(X_train.shape)"
   ]
  },
  {
   "cell_type": "code",
   "execution_count": 90,
   "metadata": {
    "id": "dashBmUNEV5p"
   },
   "outputs": [],
   "source": [
    "# scaling data\n",
    "sc = StandardScaler()\n",
    "X_train = sc.fit_transform(X_train)\n",
    "X_test = sc.transform(X_test)"
   ]
  },
  {
   "cell_type": "code",
   "execution_count": 91,
   "metadata": {},
   "outputs": [
    {
     "name": "stdout",
     "output_type": "stream",
     "text": [
      "=======================================================\n",
      "training result after cross validation :  [0.75350272 0.69202385 0.68225547 0.66901198 0.71576764]\n",
      "testing result after cross validation :  [0.24918226 0.77262151 0.84151155 0.50177067 0.89236395]\n",
      "=======================================================\n",
      "training result mean :  0.7025123301096212\n",
      "testing result mean :  0.6514899901155404\n",
      "=======================================================\n"
     ]
    }
   ],
   "source": [
    "# baseline model\n",
    "model = LinearRegression()\n",
    "\n",
    "print('='*55)\n",
    "# result getting after cross validation\n",
    "print(\"training result after cross validation : \",cross_val_score(model, X_train, y_train, cv=5, scoring='r2'))\n",
    "print(\"testing result after cross validation : \",cross_val_score(model, X_test, y_test, cv=5, scoring='r2'))\n",
    "\n",
    "print('='*55)\n",
    "# mean of result\n",
    "print(\"training result mean : \",np.mean(cross_val_score(model, X_train, y_train, cv=5, scoring='r2')))\n",
    "print(\"testing result mean : \",np.mean(cross_val_score(model, X_test, y_test, cv=5, scoring='r2')))\n",
    "print('='*55)"
   ]
  },
  {
   "cell_type": "code",
   "execution_count": 92,
   "metadata": {
    "colab": {
     "base_uri": "https://localhost:8080/",
     "height": 116
    },
    "id": "FL7Qq002z5l4",
    "outputId": "bff68075-afb5-46ba-cbc8-3439165435b5"
   },
   "outputs": [
    {
     "data": {
      "text/html": [
       "<style>#sk-container-id-5 {color: black;}#sk-container-id-5 pre{padding: 0;}#sk-container-id-5 div.sk-toggleable {background-color: white;}#sk-container-id-5 label.sk-toggleable__label {cursor: pointer;display: block;width: 100%;margin-bottom: 0;padding: 0.3em;box-sizing: border-box;text-align: center;}#sk-container-id-5 label.sk-toggleable__label-arrow:before {content: \"▸\";float: left;margin-right: 0.25em;color: #696969;}#sk-container-id-5 label.sk-toggleable__label-arrow:hover:before {color: black;}#sk-container-id-5 div.sk-estimator:hover label.sk-toggleable__label-arrow:before {color: black;}#sk-container-id-5 div.sk-toggleable__content {max-height: 0;max-width: 0;overflow: hidden;text-align: left;background-color: #f0f8ff;}#sk-container-id-5 div.sk-toggleable__content pre {margin: 0.2em;color: black;border-radius: 0.25em;background-color: #f0f8ff;}#sk-container-id-5 input.sk-toggleable__control:checked~div.sk-toggleable__content {max-height: 200px;max-width: 100%;overflow: auto;}#sk-container-id-5 input.sk-toggleable__control:checked~label.sk-toggleable__label-arrow:before {content: \"▾\";}#sk-container-id-5 div.sk-estimator input.sk-toggleable__control:checked~label.sk-toggleable__label {background-color: #d4ebff;}#sk-container-id-5 div.sk-label input.sk-toggleable__control:checked~label.sk-toggleable__label {background-color: #d4ebff;}#sk-container-id-5 input.sk-hidden--visually {border: 0;clip: rect(1px 1px 1px 1px);clip: rect(1px, 1px, 1px, 1px);height: 1px;margin: -1px;overflow: hidden;padding: 0;position: absolute;width: 1px;}#sk-container-id-5 div.sk-estimator {font-family: monospace;background-color: #f0f8ff;border: 1px dotted black;border-radius: 0.25em;box-sizing: border-box;margin-bottom: 0.5em;}#sk-container-id-5 div.sk-estimator:hover {background-color: #d4ebff;}#sk-container-id-5 div.sk-parallel-item::after {content: \"\";width: 100%;border-bottom: 1px solid gray;flex-grow: 1;}#sk-container-id-5 div.sk-label:hover label.sk-toggleable__label {background-color: #d4ebff;}#sk-container-id-5 div.sk-serial::before {content: \"\";position: absolute;border-left: 1px solid gray;box-sizing: border-box;top: 0;bottom: 0;left: 50%;z-index: 0;}#sk-container-id-5 div.sk-serial {display: flex;flex-direction: column;align-items: center;background-color: white;padding-right: 0.2em;padding-left: 0.2em;position: relative;}#sk-container-id-5 div.sk-item {position: relative;z-index: 1;}#sk-container-id-5 div.sk-parallel {display: flex;align-items: stretch;justify-content: center;background-color: white;position: relative;}#sk-container-id-5 div.sk-item::before, #sk-container-id-5 div.sk-parallel-item::before {content: \"\";position: absolute;border-left: 1px solid gray;box-sizing: border-box;top: 0;bottom: 0;left: 50%;z-index: -1;}#sk-container-id-5 div.sk-parallel-item {display: flex;flex-direction: column;z-index: 1;position: relative;background-color: white;}#sk-container-id-5 div.sk-parallel-item:first-child::after {align-self: flex-end;width: 50%;}#sk-container-id-5 div.sk-parallel-item:last-child::after {align-self: flex-start;width: 50%;}#sk-container-id-5 div.sk-parallel-item:only-child::after {width: 0;}#sk-container-id-5 div.sk-dashed-wrapped {border: 1px dashed gray;margin: 0 0.4em 0.5em 0.4em;box-sizing: border-box;padding-bottom: 0.4em;background-color: white;}#sk-container-id-5 div.sk-label label {font-family: monospace;font-weight: bold;display: inline-block;line-height: 1.2em;}#sk-container-id-5 div.sk-label-container {text-align: center;}#sk-container-id-5 div.sk-container {/* jupyter's `normalize.less` sets `[hidden] { display: none; }` but bootstrap.min.css set `[hidden] { display: none !important; }` so we also need the `!important` here to be able to override the default hidden behavior on the sphinx rendered scikit-learn.org. See: https://github.com/scikit-learn/scikit-learn/issues/21755 */display: inline-block !important;position: relative;}#sk-container-id-5 div.sk-text-repr-fallback {display: none;}</style><div id=\"sk-container-id-5\" class=\"sk-top-container\"><div class=\"sk-text-repr-fallback\"><pre>SequentialFeatureSelector(estimator=LinearRegression(), forward=False,\n",
       "                          k_features=(1, 13), scoring=&#x27;r2&#x27;)</pre><b>In a Jupyter environment, please rerun this cell to show the HTML representation or trust the notebook. <br />On GitHub, the HTML representation is unable to render, please try loading this page with nbviewer.org.</b></div><div class=\"sk-container\" hidden><div class=\"sk-item sk-dashed-wrapped\"><div class=\"sk-label-container\"><div class=\"sk-label sk-toggleable\"><input class=\"sk-toggleable__control sk-hidden--visually\" id=\"sk-estimator-id-13\" type=\"checkbox\" ><label for=\"sk-estimator-id-13\" class=\"sk-toggleable__label sk-toggleable__label-arrow\">SequentialFeatureSelector</label><div class=\"sk-toggleable__content\"><pre>SequentialFeatureSelector(estimator=LinearRegression(), forward=False,\n",
       "                          k_features=(1, 13), scoring=&#x27;r2&#x27;)</pre></div></div></div><div class=\"sk-parallel\"><div class=\"sk-parallel-item\"><div class=\"sk-item\"><div class=\"sk-label-container\"><div class=\"sk-label sk-toggleable\"><input class=\"sk-toggleable__control sk-hidden--visually\" id=\"sk-estimator-id-14\" type=\"checkbox\" ><label for=\"sk-estimator-id-14\" class=\"sk-toggleable__label sk-toggleable__label-arrow\">estimator: LinearRegression</label><div class=\"sk-toggleable__content\"><pre>LinearRegression()</pre></div></div></div><div class=\"sk-serial\"><div class=\"sk-item\"><div class=\"sk-estimator sk-toggleable\"><input class=\"sk-toggleable__control sk-hidden--visually\" id=\"sk-estimator-id-15\" type=\"checkbox\" ><label for=\"sk-estimator-id-15\" class=\"sk-toggleable__label sk-toggleable__label-arrow\">LinearRegression</label><div class=\"sk-toggleable__content\"><pre>LinearRegression()</pre></div></div></div></div></div></div></div></div></div></div>"
      ],
      "text/plain": [
       "SequentialFeatureSelector(estimator=LinearRegression(), forward=False,\n",
       "                          k_features=(1, 13), scoring='r2')"
      ]
     },
     "execution_count": 92,
     "metadata": {},
     "output_type": "execute_result"
    }
   ],
   "source": [
    "lr = LinearRegression()\n",
    "\n",
    "# perform backward elimination\n",
    "sfs = SFS(lr, k_features='best', forward=False, floating=False, scoring='r2',cv=5)\n",
    "\n",
    "sfs.fit(X_train, y_train)"
   ]
  },
  {
   "cell_type": "code",
   "execution_count": 93,
   "metadata": {
    "colab": {
     "base_uri": "https://localhost:8080/"
    },
    "id": "NiJ3nWpHMgrN",
    "outputId": "6a0bd853-607c-4c58-e9e8-e4bc3204a690"
   },
   "outputs": [
    {
     "data": {
      "text/plain": [
       "(0, 1, 4, 5, 7, 8, 9, 10, 11, 12)"
      ]
     },
     "execution_count": 93,
     "metadata": {},
     "output_type": "execute_result"
    }
   ],
   "source": [
    "sfs.k_feature_idx_"
   ]
  },
  {
   "cell_type": "code",
   "execution_count": 96,
   "metadata": {},
   "outputs": [
    {
     "data": {
      "text/html": [
       "<div>\n",
       "<style scoped>\n",
       "    .dataframe tbody tr th:only-of-type {\n",
       "        vertical-align: middle;\n",
       "    }\n",
       "\n",
       "    .dataframe tbody tr th {\n",
       "        vertical-align: top;\n",
       "    }\n",
       "\n",
       "    .dataframe thead th {\n",
       "        text-align: right;\n",
       "    }\n",
       "</style>\n",
       "<table border=\"1\" class=\"dataframe\">\n",
       "  <thead>\n",
       "    <tr style=\"text-align: right;\">\n",
       "      <th></th>\n",
       "      <th>feature_idx</th>\n",
       "      <th>cv_scores</th>\n",
       "      <th>avg_score</th>\n",
       "      <th>feature_names</th>\n",
       "      <th>ci_bound</th>\n",
       "      <th>std_dev</th>\n",
       "      <th>std_err</th>\n",
       "      <th>observations</th>\n",
       "      <th>num_features</th>\n",
       "      <th>adjusted_r2</th>\n",
       "    </tr>\n",
       "  </thead>\n",
       "  <tbody>\n",
       "    <tr>\n",
       "      <th>13</th>\n",
       "      <td>(0, 1, 2, 3, 4, 5, 6, 7, 8, 9, 10, 11, 12)</td>\n",
       "      <td>[0.7535027170817177, 0.6920238509138779, 0.682...</td>\n",
       "      <td>0.702512</td>\n",
       "      <td>(0, 1, 2, 3, 4, 5, 6, 7, 8, 9, 10, 11, 12)</td>\n",
       "      <td>0.038207</td>\n",
       "      <td>0.029727</td>\n",
       "      <td>0.014863</td>\n",
       "      <td>404</td>\n",
       "      <td>13</td>\n",
       "      <td>0.692596</td>\n",
       "    </tr>\n",
       "    <tr>\n",
       "      <th>12</th>\n",
       "      <td>(0, 1, 2, 3, 4, 5, 7, 8, 9, 10, 11, 12)</td>\n",
       "      <td>[0.7532855958710694, 0.6944570477695307, 0.693...</td>\n",
       "      <td>0.70581</td>\n",
       "      <td>(0, 1, 2, 3, 4, 5, 7, 8, 9, 10, 11, 12)</td>\n",
       "      <td>0.035641</td>\n",
       "      <td>0.02773</td>\n",
       "      <td>0.013865</td>\n",
       "      <td>404</td>\n",
       "      <td>12</td>\n",
       "      <td>0.696781</td>\n",
       "    </tr>\n",
       "    <tr>\n",
       "      <th>11</th>\n",
       "      <td>(0, 1, 3, 4, 5, 7, 8, 9, 10, 11, 12)</td>\n",
       "      <td>[0.7547108925568492, 0.6959627893665095, 0.701...</td>\n",
       "      <td>0.708109</td>\n",
       "      <td>(0, 1, 3, 4, 5, 7, 8, 9, 10, 11, 12)</td>\n",
       "      <td>0.035367</td>\n",
       "      <td>0.027516</td>\n",
       "      <td>0.013758</td>\n",
       "      <td>404</td>\n",
       "      <td>11</td>\n",
       "      <td>0.699918</td>\n",
       "    </tr>\n",
       "    <tr>\n",
       "      <th>10</th>\n",
       "      <td>(0, 1, 4, 5, 7, 8, 9, 10, 11, 12)</td>\n",
       "      <td>[0.7769593921905562, 0.6884741223718952, 0.702...</td>\n",
       "      <td>0.710033</td>\n",
       "      <td>(0, 1, 4, 5, 7, 8, 9, 10, 11, 12)</td>\n",
       "      <td>0.046075</td>\n",
       "      <td>0.035848</td>\n",
       "      <td>0.017924</td>\n",
       "      <td>404</td>\n",
       "      <td>10</td>\n",
       "      <td>0.702654</td>\n",
       "    </tr>\n",
       "    <tr>\n",
       "      <th>9</th>\n",
       "      <td>(0, 1, 4, 5, 7, 8, 9, 10, 12)</td>\n",
       "      <td>[0.7706104220711025, 0.6854023389684325, 0.690...</td>\n",
       "      <td>0.704324</td>\n",
       "      <td>(0, 1, 4, 5, 7, 8, 9, 10, 12)</td>\n",
       "      <td>0.046449</td>\n",
       "      <td>0.036139</td>\n",
       "      <td>0.018069</td>\n",
       "      <td>404</td>\n",
       "      <td>9</td>\n",
       "      <td>0.69757</td>\n",
       "    </tr>\n",
       "    <tr>\n",
       "      <th>8</th>\n",
       "      <td>(0, 1, 4, 5, 7, 8, 10, 12)</td>\n",
       "      <td>[0.7681719744800459, 0.6822126526818693, 0.670...</td>\n",
       "      <td>0.697727</td>\n",
       "      <td>(0, 1, 4, 5, 7, 8, 10, 12)</td>\n",
       "      <td>0.04882</td>\n",
       "      <td>0.037984</td>\n",
       "      <td>0.018992</td>\n",
       "      <td>404</td>\n",
       "      <td>8</td>\n",
       "      <td>0.691605</td>\n",
       "    </tr>\n",
       "    <tr>\n",
       "      <th>7</th>\n",
       "      <td>(0, 1, 4, 5, 7, 10, 12)</td>\n",
       "      <td>[0.7671638009750725, 0.6812300799626649, 0.661...</td>\n",
       "      <td>0.692234</td>\n",
       "      <td>(0, 1, 4, 5, 7, 10, 12)</td>\n",
       "      <td>0.051644</td>\n",
       "      <td>0.040181</td>\n",
       "      <td>0.02009</td>\n",
       "      <td>404</td>\n",
       "      <td>7</td>\n",
       "      <td>0.686794</td>\n",
       "    </tr>\n",
       "    <tr>\n",
       "      <th>6</th>\n",
       "      <td>(1, 4, 5, 7, 10, 12)</td>\n",
       "      <td>[0.7519120213497092, 0.6756087674652564, 0.646...</td>\n",
       "      <td>0.686004</td>\n",
       "      <td>(1, 4, 5, 7, 10, 12)</td>\n",
       "      <td>0.046845</td>\n",
       "      <td>0.036447</td>\n",
       "      <td>0.018224</td>\n",
       "      <td>404</td>\n",
       "      <td>6</td>\n",
       "      <td>0.681258</td>\n",
       "    </tr>\n",
       "    <tr>\n",
       "      <th>5</th>\n",
       "      <td>(4, 5, 7, 10, 12)</td>\n",
       "      <td>[0.7525552802357769, 0.6665033988504308, 0.639...</td>\n",
       "      <td>0.681065</td>\n",
       "      <td>(4, 5, 7, 10, 12)</td>\n",
       "      <td>0.051233</td>\n",
       "      <td>0.039861</td>\n",
       "      <td>0.019931</td>\n",
       "      <td>404</td>\n",
       "      <td>5</td>\n",
       "      <td>0.677058</td>\n",
       "    </tr>\n",
       "    <tr>\n",
       "      <th>4</th>\n",
       "      <td>(5, 7, 10, 12)</td>\n",
       "      <td>[0.7384743962575442, 0.6401188507668829, 0.587...</td>\n",
       "      <td>0.662544</td>\n",
       "      <td>(5, 7, 10, 12)</td>\n",
       "      <td>0.063384</td>\n",
       "      <td>0.049315</td>\n",
       "      <td>0.024658</td>\n",
       "      <td>404</td>\n",
       "      <td>4</td>\n",
       "      <td>0.659161</td>\n",
       "    </tr>\n",
       "    <tr>\n",
       "      <th>3</th>\n",
       "      <td>(5, 10, 12)</td>\n",
       "      <td>[0.7215896884753017, 0.6288372046797154, 0.633...</td>\n",
       "      <td>0.661012</td>\n",
       "      <td>(5, 10, 12)</td>\n",
       "      <td>0.04259</td>\n",
       "      <td>0.033136</td>\n",
       "      <td>0.016568</td>\n",
       "      <td>404</td>\n",
       "      <td>3</td>\n",
       "      <td>0.65847</td>\n",
       "    </tr>\n",
       "    <tr>\n",
       "      <th>2</th>\n",
       "      <td>(5, 12)</td>\n",
       "      <td>[0.6330856272904801, 0.577981212075525, 0.5860...</td>\n",
       "      <td>0.613259</td>\n",
       "      <td>(5, 12)</td>\n",
       "      <td>0.034066</td>\n",
       "      <td>0.026505</td>\n",
       "      <td>0.013252</td>\n",
       "      <td>404</td>\n",
       "      <td>2</td>\n",
       "      <td>0.61133</td>\n",
       "    </tr>\n",
       "    <tr>\n",
       "      <th>1</th>\n",
       "      <td>(12,)</td>\n",
       "      <td>[0.5472998394577442, 0.49002001493399727, 0.53...</td>\n",
       "      <td>0.538451</td>\n",
       "      <td>(12,)</td>\n",
       "      <td>0.032755</td>\n",
       "      <td>0.025485</td>\n",
       "      <td>0.012742</td>\n",
       "      <td>404</td>\n",
       "      <td>1</td>\n",
       "      <td>0.537303</td>\n",
       "    </tr>\n",
       "  </tbody>\n",
       "</table>\n",
       "</div>"
      ],
      "text/plain": [
       "                                   feature_idx  \\\n",
       "13  (0, 1, 2, 3, 4, 5, 6, 7, 8, 9, 10, 11, 12)   \n",
       "12     (0, 1, 2, 3, 4, 5, 7, 8, 9, 10, 11, 12)   \n",
       "11        (0, 1, 3, 4, 5, 7, 8, 9, 10, 11, 12)   \n",
       "10           (0, 1, 4, 5, 7, 8, 9, 10, 11, 12)   \n",
       "9                (0, 1, 4, 5, 7, 8, 9, 10, 12)   \n",
       "8                   (0, 1, 4, 5, 7, 8, 10, 12)   \n",
       "7                      (0, 1, 4, 5, 7, 10, 12)   \n",
       "6                         (1, 4, 5, 7, 10, 12)   \n",
       "5                            (4, 5, 7, 10, 12)   \n",
       "4                               (5, 7, 10, 12)   \n",
       "3                                  (5, 10, 12)   \n",
       "2                                      (5, 12)   \n",
       "1                                        (12,)   \n",
       "\n",
       "                                            cv_scores avg_score  \\\n",
       "13  [0.7535027170817177, 0.6920238509138779, 0.682...  0.702512   \n",
       "12  [0.7532855958710694, 0.6944570477695307, 0.693...   0.70581   \n",
       "11  [0.7547108925568492, 0.6959627893665095, 0.701...  0.708109   \n",
       "10  [0.7769593921905562, 0.6884741223718952, 0.702...  0.710033   \n",
       "9   [0.7706104220711025, 0.6854023389684325, 0.690...  0.704324   \n",
       "8   [0.7681719744800459, 0.6822126526818693, 0.670...  0.697727   \n",
       "7   [0.7671638009750725, 0.6812300799626649, 0.661...  0.692234   \n",
       "6   [0.7519120213497092, 0.6756087674652564, 0.646...  0.686004   \n",
       "5   [0.7525552802357769, 0.6665033988504308, 0.639...  0.681065   \n",
       "4   [0.7384743962575442, 0.6401188507668829, 0.587...  0.662544   \n",
       "3   [0.7215896884753017, 0.6288372046797154, 0.633...  0.661012   \n",
       "2   [0.6330856272904801, 0.577981212075525, 0.5860...  0.613259   \n",
       "1   [0.5472998394577442, 0.49002001493399727, 0.53...  0.538451   \n",
       "\n",
       "                                 feature_names  ci_bound   std_dev   std_err  \\\n",
       "13  (0, 1, 2, 3, 4, 5, 6, 7, 8, 9, 10, 11, 12)  0.038207  0.029727  0.014863   \n",
       "12     (0, 1, 2, 3, 4, 5, 7, 8, 9, 10, 11, 12)  0.035641   0.02773  0.013865   \n",
       "11        (0, 1, 3, 4, 5, 7, 8, 9, 10, 11, 12)  0.035367  0.027516  0.013758   \n",
       "10           (0, 1, 4, 5, 7, 8, 9, 10, 11, 12)  0.046075  0.035848  0.017924   \n",
       "9                (0, 1, 4, 5, 7, 8, 9, 10, 12)  0.046449  0.036139  0.018069   \n",
       "8                   (0, 1, 4, 5, 7, 8, 10, 12)   0.04882  0.037984  0.018992   \n",
       "7                      (0, 1, 4, 5, 7, 10, 12)  0.051644  0.040181   0.02009   \n",
       "6                         (1, 4, 5, 7, 10, 12)  0.046845  0.036447  0.018224   \n",
       "5                            (4, 5, 7, 10, 12)  0.051233  0.039861  0.019931   \n",
       "4                               (5, 7, 10, 12)  0.063384  0.049315  0.024658   \n",
       "3                                  (5, 10, 12)   0.04259  0.033136  0.016568   \n",
       "2                                      (5, 12)  0.034066  0.026505  0.013252   \n",
       "1                                        (12,)  0.032755  0.025485  0.012742   \n",
       "\n",
       "    observations  num_features adjusted_r2  \n",
       "13           404            13    0.692596  \n",
       "12           404            12    0.696781  \n",
       "11           404            11    0.699918  \n",
       "10           404            10    0.702654  \n",
       "9            404             9     0.69757  \n",
       "8            404             8    0.691605  \n",
       "7            404             7    0.686794  \n",
       "6            404             6    0.681258  \n",
       "5            404             5    0.677058  \n",
       "4            404             4    0.659161  \n",
       "3            404             3     0.65847  \n",
       "2            404             2     0.61133  \n",
       "1            404             1    0.537303  "
      ]
     },
     "execution_count": 96,
     "metadata": {},
     "output_type": "execute_result"
    }
   ],
   "source": [
    "metric_df = pd.DataFrame.from_dict(sfs.get_metric_dict()).T\n",
    "# no. of rows in training data\n",
    "metric_df['observations'] = 404\n",
    "# lenght of feature index\n",
    "metric_df['num_features'] = metric_df['feature_idx'].apply(lambda x:len(x))\n",
    "# calculate the adjusted r2 score\n",
    "metric_df['adjusted_r2'] = adjust_r2(metric_df['avg_score'],metric_df['observations'],metric_df['num_features'])\n",
    "\n",
    "metric_df"
   ]
  },
  {
   "cell_type": "code",
   "execution_count": 97,
   "metadata": {
    "colab": {
     "base_uri": "https://localhost:8080/",
     "height": 472
    },
    "id": "WIGHUrfLzsUH",
    "outputId": "f284af99-2fc8-4eb3-9319-918a8dbdb570"
   },
   "outputs": [
    {
     "data": {
      "image/png": "[encoded data removed]",
      "text/plain": [
       "<Figure size 640x480 with 1 Axes>"
      ]
     },
     "metadata": {},
     "output_type": "display_data"
    }
   ],
   "source": [
    "from mlxtend.plotting import plot_sequential_feature_selection as plot_sfs\n",
    "\n",
    "\n",
    "fig1 = plot_sfs(sfs.get_metric_dict(), kind='std_err',)\n",
    "\n",
    "plt.title('Sequential Backward Elimination (w. StdErr)')\n",
    "plt.grid()\n",
    "plt.show()"
   ]
  },
  {
   "cell_type": "code",
   "execution_count": 98,
   "metadata": {
    "colab": {
     "base_uri": "https://localhost:8080/"
    },
    "id": "1WZvHjBj85b7",
    "outputId": "7c342d8a-6671-44e1-9d45-c4a13ff7b48a"
   },
   "outputs": [
    {
     "name": "stdout",
     "output_type": "stream",
     "text": [
      "=======================================================\n",
      "training result after cross validation :  [0.77695939 0.68847412 0.70201241 0.67239069 0.7103273 ]\n",
      "testing result after cross validation :  [0.61358885 0.79672468 0.81710547 0.46033796 0.91515268]\n",
      "=======================================================\n",
      "training result mean :  0.710032783921856\n",
      "testing result mean :  0.7205819296124483\n",
      "=======================================================\n"
     ]
    }
   ],
   "source": [
    "# Sequential Backward Elimination transformation on train\n",
    "X_train_sel = sfs.transform(X_train)\n",
    "# Sequential Backward Elimination transformation on test\n",
    "X_test_sel = sfs.transform(X_test)\n",
    "\n",
    "model = LinearRegression()\n",
    "\n",
    "print('='*55)\n",
    "# result getting after cross validation\n",
    "print(\"training result after cross validation : \",cross_val_score(model, X_train_sel, y_train, cv=5, scoring='r2'))\n",
    "print(\"testing result after cross validation : \",cross_val_score(model, X_test_sel, y_test, cv=5, scoring='r2'))\n",
    "\n",
    "print('='*55)\n",
    "# mean of result\n",
    "print(\"training result mean : \",np.mean(cross_val_score(model, X_train_sel, y_train, cv=5, scoring='r2')))\n",
    "print(\"testing result mean : \",np.mean(cross_val_score(model, X_test_sel, y_test, cv=5, scoring='r2')))\n",
    "print('='*55)"
   ]
  },
  {
   "cell_type": "code",
   "execution_count": 99,
   "metadata": {
    "colab": {
     "base_uri": "https://localhost:8080/"
    },
    "id": "HIqJ-cWfx_F6",
    "outputId": "d1a35917-288c-4033-bdfb-872c84b16e79"
   },
   "outputs": [
    {
     "data": {
      "text/plain": [
       "(404, 10)"
      ]
     },
     "execution_count": 99,
     "metadata": {},
     "output_type": "execute_result"
    }
   ],
   "source": [
    "X_train_sel.shape"
   ]
  },
  {
   "cell_type": "code",
   "execution_count": null,
   "metadata": {},
   "outputs": [],
   "source": []
  },
  {
   "cell_type": "code",
   "execution_count": null,
   "metadata": {},
   "outputs": [],
   "source": []
  },
  {
   "cell_type": "markdown",
   "metadata": {},
   "source": [
    "## Sequential Forword Elimination"
   ]
  },
  {
   "cell_type": "code",
   "execution_count": 100,
   "metadata": {},
   "outputs": [
    {
     "name": "stdout",
     "output_type": "stream",
     "text": [
      "(404, 13)\n"
     ]
    }
   ],
   "source": [
    "from sklearn.metrics import mean_squared_error\n",
    "from mlxtend.feature_selection import SequentialFeatureSelector as SFS\n",
    "\n",
    "# load the dataset\n",
    "data = pd.read_csv('https://raw.githubusercontent.com/selva86/datasets/master/BostonHousing.csv')\n",
    "\n",
    "# separate the target variable\n",
    "X = data.drop(\"medv\", axis=1)\n",
    "y = data['medv']\n",
    "\n",
    "# split the data into train and test sets\n",
    "X_train, X_test, y_train, y_test = train_test_split(X, y, test_size=0.2, random_state=1)\n",
    "\n",
    "print(X_train.shape)"
   ]
  },
  {
   "cell_type": "code",
   "execution_count": 101,
   "metadata": {},
   "outputs": [],
   "source": [
    "# scaling data\n",
    "sc = StandardScaler()\n",
    "X_train = sc.fit_transform(X_train)\n",
    "X_test = sc.transform(X_test)"
   ]
  },
  {
   "cell_type": "code",
   "execution_count": 102,
   "metadata": {},
   "outputs": [
    {
     "name": "stdout",
     "output_type": "stream",
     "text": [
      "=======================================================\n",
      "training result after cross validation :  [0.75350272 0.69202385 0.68225547 0.66901198 0.71576764]\n",
      "testing result after cross validation :  [0.24918226 0.77262151 0.84151155 0.50177067 0.89236395]\n",
      "=======================================================\n",
      "training result mean :  0.7025123301096212\n",
      "testing result mean :  0.6514899901155404\n",
      "=======================================================\n"
     ]
    }
   ],
   "source": [
    "# baseline model\n",
    "model = LinearRegression()\n",
    "\n",
    "print('='*55)\n",
    "# result getting after cross validation\n",
    "print(\"training result after cross validation : \",cross_val_score(model, X_train, y_train, cv=5, scoring='r2'))\n",
    "print(\"testing result after cross validation : \",cross_val_score(model, X_test, y_test, cv=5, scoring='r2'))\n",
    "\n",
    "print('='*55)\n",
    "# mean of result\n",
    "print(\"training result mean : \",np.mean(cross_val_score(model, X_train, y_train, cv=5, scoring='r2')))\n",
    "print(\"testing result mean : \",np.mean(cross_val_score(model, X_test, y_test, cv=5, scoring='r2')))\n",
    "print('='*55)"
   ]
  },
  {
   "cell_type": "code",
   "execution_count": 103,
   "metadata": {},
   "outputs": [
    {
     "data": {
      "text/html": [
       "<style>#sk-container-id-6 {color: black;}#sk-container-id-6 pre{padding: 0;}#sk-container-id-6 div.sk-toggleable {background-color: white;}#sk-container-id-6 label.sk-toggleable__label {cursor: pointer;display: block;width: 100%;margin-bottom: 0;padding: 0.3em;box-sizing: border-box;text-align: center;}#sk-container-id-6 label.sk-toggleable__label-arrow:before {content: \"▸\";float: left;margin-right: 0.25em;color: #696969;}#sk-container-id-6 label.sk-toggleable__label-arrow:hover:before {color: black;}#sk-container-id-6 div.sk-estimator:hover label.sk-toggleable__label-arrow:before {color: black;}#sk-container-id-6 div.sk-toggleable__content {max-height: 0;max-width: 0;overflow: hidden;text-align: left;background-color: #f0f8ff;}#sk-container-id-6 div.sk-toggleable__content pre {margin: 0.2em;color: black;border-radius: 0.25em;background-color: #f0f8ff;}#sk-container-id-6 input.sk-toggleable__control:checked~div.sk-toggleable__content {max-height: 200px;max-width: 100%;overflow: auto;}#sk-container-id-6 input.sk-toggleable__control:checked~label.sk-toggleable__label-arrow:before {content: \"▾\";}#sk-container-id-6 div.sk-estimator input.sk-toggleable__control:checked~label.sk-toggleable__label {background-color: #d4ebff;}#sk-container-id-6 div.sk-label input.sk-toggleable__control:checked~label.sk-toggleable__label {background-color: #d4ebff;}#sk-container-id-6 input.sk-hidden--visually {border: 0;clip: rect(1px 1px 1px 1px);clip: rect(1px, 1px, 1px, 1px);height: 1px;margin: -1px;overflow: hidden;padding: 0;position: absolute;width: 1px;}#sk-container-id-6 div.sk-estimator {font-family: monospace;background-color: #f0f8ff;border: 1px dotted black;border-radius: 0.25em;box-sizing: border-box;margin-bottom: 0.5em;}#sk-container-id-6 div.sk-estimator:hover {background-color: #d4ebff;}#sk-container-id-6 div.sk-parallel-item::after {content: \"\";width: 100%;border-bottom: 1px solid gray;flex-grow: 1;}#sk-container-id-6 div.sk-label:hover label.sk-toggleable__label {background-color: #d4ebff;}#sk-container-id-6 div.sk-serial::before {content: \"\";position: absolute;border-left: 1px solid gray;box-sizing: border-box;top: 0;bottom: 0;left: 50%;z-index: 0;}#sk-container-id-6 div.sk-serial {display: flex;flex-direction: column;align-items: center;background-color: white;padding-right: 0.2em;padding-left: 0.2em;position: relative;}#sk-container-id-6 div.sk-item {position: relative;z-index: 1;}#sk-container-id-6 div.sk-parallel {display: flex;align-items: stretch;justify-content: center;background-color: white;position: relative;}#sk-container-id-6 div.sk-item::before, #sk-container-id-6 div.sk-parallel-item::before {content: \"\";position: absolute;border-left: 1px solid gray;box-sizing: border-box;top: 0;bottom: 0;left: 50%;z-index: -1;}#sk-container-id-6 div.sk-parallel-item {display: flex;flex-direction: column;z-index: 1;position: relative;background-color: white;}#sk-container-id-6 div.sk-parallel-item:first-child::after {align-self: flex-end;width: 50%;}#sk-container-id-6 div.sk-parallel-item:last-child::after {align-self: flex-start;width: 50%;}#sk-container-id-6 div.sk-parallel-item:only-child::after {width: 0;}#sk-container-id-6 div.sk-dashed-wrapped {border: 1px dashed gray;margin: 0 0.4em 0.5em 0.4em;box-sizing: border-box;padding-bottom: 0.4em;background-color: white;}#sk-container-id-6 div.sk-label label {font-family: monospace;font-weight: bold;display: inline-block;line-height: 1.2em;}#sk-container-id-6 div.sk-label-container {text-align: center;}#sk-container-id-6 div.sk-container {/* jupyter's `normalize.less` sets `[hidden] { display: none; }` but bootstrap.min.css set `[hidden] { display: none !important; }` so we also need the `!important` here to be able to override the default hidden behavior on the sphinx rendered scikit-learn.org. See: https://github.com/scikit-learn/scikit-learn/issues/21755 */display: inline-block !important;position: relative;}#sk-container-id-6 div.sk-text-repr-fallback {display: none;}</style><div id=\"sk-container-id-6\" class=\"sk-top-container\"><div class=\"sk-text-repr-fallback\"><pre>SequentialFeatureSelector(estimator=LinearRegression(), k_features=(1, 13),\n",
       "                          scoring=&#x27;r2&#x27;)</pre><b>In a Jupyter environment, please rerun this cell to show the HTML representation or trust the notebook. <br />On GitHub, the HTML representation is unable to render, please try loading this page with nbviewer.org.</b></div><div class=\"sk-container\" hidden><div class=\"sk-item sk-dashed-wrapped\"><div class=\"sk-label-container\"><div class=\"sk-label sk-toggleable\"><input class=\"sk-toggleable__control sk-hidden--visually\" id=\"sk-estimator-id-16\" type=\"checkbox\" ><label for=\"sk-estimator-id-16\" class=\"sk-toggleable__label sk-toggleable__label-arrow\">SequentialFeatureSelector</label><div class=\"sk-toggleable__content\"><pre>SequentialFeatureSelector(estimator=LinearRegression(), k_features=(1, 13),\n",
       "                          scoring=&#x27;r2&#x27;)</pre></div></div></div><div class=\"sk-parallel\"><div class=\"sk-parallel-item\"><div class=\"sk-item\"><div class=\"sk-label-container\"><div class=\"sk-label sk-toggleable\"><input class=\"sk-toggleable__control sk-hidden--visually\" id=\"sk-estimator-id-17\" type=\"checkbox\" ><label for=\"sk-estimator-id-17\" class=\"sk-toggleable__label sk-toggleable__label-arrow\">estimator: LinearRegression</label><div class=\"sk-toggleable__content\"><pre>LinearRegression()</pre></div></div></div><div class=\"sk-serial\"><div class=\"sk-item\"><div class=\"sk-estimator sk-toggleable\"><input class=\"sk-toggleable__control sk-hidden--visually\" id=\"sk-estimator-id-18\" type=\"checkbox\" ><label for=\"sk-estimator-id-18\" class=\"sk-toggleable__label sk-toggleable__label-arrow\">LinearRegression</label><div class=\"sk-toggleable__content\"><pre>LinearRegression()</pre></div></div></div></div></div></div></div></div></div></div>"
      ],
      "text/plain": [
       "SequentialFeatureSelector(estimator=LinearRegression(), k_features=(1, 13),\n",
       "                          scoring='r2')"
      ]
     },
     "execution_count": 103,
     "metadata": {},
     "output_type": "execute_result"
    }
   ],
   "source": [
    "lr = LinearRegression()\n",
    "\n",
    "# perform backward elimination\n",
    "sfs = SFS(lr, k_features='best', forward=True, floating=False, scoring='r2',cv=5)\n",
    "\n",
    "sfs.fit(X_train, y_train)"
   ]
  },
  {
   "cell_type": "code",
   "execution_count": 104,
   "metadata": {},
   "outputs": [
    {
     "data": {
      "text/plain": [
       "(0, 1, 4, 5, 7, 8, 9, 10, 11, 12)"
      ]
     },
     "execution_count": 104,
     "metadata": {},
     "output_type": "execute_result"
    }
   ],
   "source": [
    "sfs.k_feature_idx_"
   ]
  },
  {
   "cell_type": "code",
   "execution_count": 105,
   "metadata": {},
   "outputs": [
    {
     "data": {
      "text/html": [
       "<div>\n",
       "<style scoped>\n",
       "    .dataframe tbody tr th:only-of-type {\n",
       "        vertical-align: middle;\n",
       "    }\n",
       "\n",
       "    .dataframe tbody tr th {\n",
       "        vertical-align: top;\n",
       "    }\n",
       "\n",
       "    .dataframe thead th {\n",
       "        text-align: right;\n",
       "    }\n",
       "</style>\n",
       "<table border=\"1\" class=\"dataframe\">\n",
       "  <thead>\n",
       "    <tr style=\"text-align: right;\">\n",
       "      <th></th>\n",
       "      <th>feature_idx</th>\n",
       "      <th>cv_scores</th>\n",
       "      <th>avg_score</th>\n",
       "      <th>feature_names</th>\n",
       "      <th>ci_bound</th>\n",
       "      <th>std_dev</th>\n",
       "      <th>std_err</th>\n",
       "      <th>observations</th>\n",
       "      <th>num_features</th>\n",
       "      <th>adjusted_r2</th>\n",
       "    </tr>\n",
       "  </thead>\n",
       "  <tbody>\n",
       "    <tr>\n",
       "      <th>1</th>\n",
       "      <td>(12,)</td>\n",
       "      <td>[0.5472998394577442, 0.49002001493399727, 0.53...</td>\n",
       "      <td>0.538451</td>\n",
       "      <td>(12,)</td>\n",
       "      <td>0.032755</td>\n",
       "      <td>0.025485</td>\n",
       "      <td>0.012742</td>\n",
       "      <td>404</td>\n",
       "      <td>1</td>\n",
       "      <td>0.537303</td>\n",
       "    </tr>\n",
       "    <tr>\n",
       "      <th>2</th>\n",
       "      <td>(5, 12)</td>\n",
       "      <td>[0.6330856272904801, 0.577981212075525, 0.5860...</td>\n",
       "      <td>0.613259</td>\n",
       "      <td>(5, 12)</td>\n",
       "      <td>0.034066</td>\n",
       "      <td>0.026505</td>\n",
       "      <td>0.013252</td>\n",
       "      <td>404</td>\n",
       "      <td>2</td>\n",
       "      <td>0.61133</td>\n",
       "    </tr>\n",
       "    <tr>\n",
       "      <th>3</th>\n",
       "      <td>(5, 10, 12)</td>\n",
       "      <td>[0.7215896884753017, 0.6288372046797154, 0.633...</td>\n",
       "      <td>0.661012</td>\n",
       "      <td>(5, 10, 12)</td>\n",
       "      <td>0.04259</td>\n",
       "      <td>0.033136</td>\n",
       "      <td>0.016568</td>\n",
       "      <td>404</td>\n",
       "      <td>3</td>\n",
       "      <td>0.65847</td>\n",
       "    </tr>\n",
       "    <tr>\n",
       "      <th>4</th>\n",
       "      <td>(5, 10, 11, 12)</td>\n",
       "      <td>[0.725877216548624, 0.6342604286872173, 0.6558...</td>\n",
       "      <td>0.667383</td>\n",
       "      <td>(5, 10, 11, 12)</td>\n",
       "      <td>0.039611</td>\n",
       "      <td>0.030819</td>\n",
       "      <td>0.01541</td>\n",
       "      <td>404</td>\n",
       "      <td>4</td>\n",
       "      <td>0.664048</td>\n",
       "    </tr>\n",
       "    <tr>\n",
       "      <th>5</th>\n",
       "      <td>(5, 7, 10, 11, 12)</td>\n",
       "      <td>[0.7440756174774326, 0.6473449858158778, 0.614...</td>\n",
       "      <td>0.671496</td>\n",
       "      <td>(5, 7, 10, 11, 12)</td>\n",
       "      <td>0.055057</td>\n",
       "      <td>0.042836</td>\n",
       "      <td>0.021418</td>\n",
       "      <td>404</td>\n",
       "      <td>5</td>\n",
       "      <td>0.667369</td>\n",
       "    </tr>\n",
       "    <tr>\n",
       "      <th>6</th>\n",
       "      <td>(4, 5, 7, 10, 11, 12)</td>\n",
       "      <td>[0.7554472741494643, 0.6695521143038103, 0.653...</td>\n",
       "      <td>0.68562</td>\n",
       "      <td>(4, 5, 7, 10, 11, 12)</td>\n",
       "      <td>0.047626</td>\n",
       "      <td>0.037054</td>\n",
       "      <td>0.018527</td>\n",
       "      <td>404</td>\n",
       "      <td>6</td>\n",
       "      <td>0.680869</td>\n",
       "    </tr>\n",
       "    <tr>\n",
       "      <th>7</th>\n",
       "      <td>(1, 4, 5, 7, 10, 11, 12)</td>\n",
       "      <td>[0.7548843433907462, 0.6798073590310515, 0.662...</td>\n",
       "      <td>0.6913</td>\n",
       "      <td>(1, 4, 5, 7, 10, 11, 12)</td>\n",
       "      <td>0.042762</td>\n",
       "      <td>0.03327</td>\n",
       "      <td>0.016635</td>\n",
       "      <td>404</td>\n",
       "      <td>7</td>\n",
       "      <td>0.685844</td>\n",
       "    </tr>\n",
       "    <tr>\n",
       "      <th>8</th>\n",
       "      <td>(0, 1, 4, 5, 7, 10, 11, 12)</td>\n",
       "      <td>[0.7678201537729974, 0.6827004362205138, 0.671...</td>\n",
       "      <td>0.695442</td>\n",
       "      <td>(0, 1, 4, 5, 7, 10, 11, 12)</td>\n",
       "      <td>0.048774</td>\n",
       "      <td>0.037948</td>\n",
       "      <td>0.018974</td>\n",
       "      <td>404</td>\n",
       "      <td>8</td>\n",
       "      <td>0.689274</td>\n",
       "    </tr>\n",
       "    <tr>\n",
       "      <th>9</th>\n",
       "      <td>(0, 1, 4, 5, 7, 8, 10, 11, 12)</td>\n",
       "      <td>[0.7746648196407365, 0.6850585456872307, 0.683...</td>\n",
       "      <td>0.703763</td>\n",
       "      <td>(0, 1, 4, 5, 7, 8, 10, 11, 12)</td>\n",
       "      <td>0.04762</td>\n",
       "      <td>0.03705</td>\n",
       "      <td>0.018525</td>\n",
       "      <td>404</td>\n",
       "      <td>9</td>\n",
       "      <td>0.696996</td>\n",
       "    </tr>\n",
       "    <tr>\n",
       "      <th>10</th>\n",
       "      <td>(0, 1, 4, 5, 7, 8, 9, 10, 11, 12)</td>\n",
       "      <td>[0.7769593921905562, 0.6884741223718952, 0.702...</td>\n",
       "      <td>0.710033</td>\n",
       "      <td>(0, 1, 4, 5, 7, 8, 9, 10, 11, 12)</td>\n",
       "      <td>0.046075</td>\n",
       "      <td>0.035848</td>\n",
       "      <td>0.017924</td>\n",
       "      <td>404</td>\n",
       "      <td>10</td>\n",
       "      <td>0.702654</td>\n",
       "    </tr>\n",
       "    <tr>\n",
       "      <th>11</th>\n",
       "      <td>(0, 1, 3, 4, 5, 7, 8, 9, 10, 11, 12)</td>\n",
       "      <td>[0.7547108925568492, 0.6959627893665095, 0.701...</td>\n",
       "      <td>0.708109</td>\n",
       "      <td>(0, 1, 3, 4, 5, 7, 8, 9, 10, 11, 12)</td>\n",
       "      <td>0.035367</td>\n",
       "      <td>0.027516</td>\n",
       "      <td>0.013758</td>\n",
       "      <td>404</td>\n",
       "      <td>11</td>\n",
       "      <td>0.699918</td>\n",
       "    </tr>\n",
       "    <tr>\n",
       "      <th>12</th>\n",
       "      <td>(0, 1, 2, 3, 4, 5, 7, 8, 9, 10, 11, 12)</td>\n",
       "      <td>[0.7532855958710694, 0.6944570477695307, 0.693...</td>\n",
       "      <td>0.70581</td>\n",
       "      <td>(0, 1, 2, 3, 4, 5, 7, 8, 9, 10, 11, 12)</td>\n",
       "      <td>0.035641</td>\n",
       "      <td>0.02773</td>\n",
       "      <td>0.013865</td>\n",
       "      <td>404</td>\n",
       "      <td>12</td>\n",
       "      <td>0.696781</td>\n",
       "    </tr>\n",
       "    <tr>\n",
       "      <th>13</th>\n",
       "      <td>(0, 1, 2, 3, 4, 5, 6, 7, 8, 9, 10, 11, 12)</td>\n",
       "      <td>[0.7535027170817177, 0.6920238509138779, 0.682...</td>\n",
       "      <td>0.702512</td>\n",
       "      <td>(0, 1, 2, 3, 4, 5, 6, 7, 8, 9, 10, 11, 12)</td>\n",
       "      <td>0.038207</td>\n",
       "      <td>0.029727</td>\n",
       "      <td>0.014863</td>\n",
       "      <td>404</td>\n",
       "      <td>13</td>\n",
       "      <td>0.692596</td>\n",
       "    </tr>\n",
       "  </tbody>\n",
       "</table>\n",
       "</div>"
      ],
      "text/plain": [
       "                                   feature_idx  \\\n",
       "1                                        (12,)   \n",
       "2                                      (5, 12)   \n",
       "3                                  (5, 10, 12)   \n",
       "4                              (5, 10, 11, 12)   \n",
       "5                           (5, 7, 10, 11, 12)   \n",
       "6                        (4, 5, 7, 10, 11, 12)   \n",
       "7                     (1, 4, 5, 7, 10, 11, 12)   \n",
       "8                  (0, 1, 4, 5, 7, 10, 11, 12)   \n",
       "9               (0, 1, 4, 5, 7, 8, 10, 11, 12)   \n",
       "10           (0, 1, 4, 5, 7, 8, 9, 10, 11, 12)   \n",
       "11        (0, 1, 3, 4, 5, 7, 8, 9, 10, 11, 12)   \n",
       "12     (0, 1, 2, 3, 4, 5, 7, 8, 9, 10, 11, 12)   \n",
       "13  (0, 1, 2, 3, 4, 5, 6, 7, 8, 9, 10, 11, 12)   \n",
       "\n",
       "                                            cv_scores avg_score  \\\n",
       "1   [0.5472998394577442, 0.49002001493399727, 0.53...  0.538451   \n",
       "2   [0.6330856272904801, 0.577981212075525, 0.5860...  0.613259   \n",
       "3   [0.7215896884753017, 0.6288372046797154, 0.633...  0.661012   \n",
       "4   [0.725877216548624, 0.6342604286872173, 0.6558...  0.667383   \n",
       "5   [0.7440756174774326, 0.6473449858158778, 0.614...  0.671496   \n",
       "6   [0.7554472741494643, 0.6695521143038103, 0.653...   0.68562   \n",
       "7   [0.7548843433907462, 0.6798073590310515, 0.662...    0.6913   \n",
       "8   [0.7678201537729974, 0.6827004362205138, 0.671...  0.695442   \n",
       "9   [0.7746648196407365, 0.6850585456872307, 0.683...  0.703763   \n",
       "10  [0.7769593921905562, 0.6884741223718952, 0.702...  0.710033   \n",
       "11  [0.7547108925568492, 0.6959627893665095, 0.701...  0.708109   \n",
       "12  [0.7532855958710694, 0.6944570477695307, 0.693...   0.70581   \n",
       "13  [0.7535027170817177, 0.6920238509138779, 0.682...  0.702512   \n",
       "\n",
       "                                 feature_names  ci_bound   std_dev   std_err  \\\n",
       "1                                        (12,)  0.032755  0.025485  0.012742   \n",
       "2                                      (5, 12)  0.034066  0.026505  0.013252   \n",
       "3                                  (5, 10, 12)   0.04259  0.033136  0.016568   \n",
       "4                              (5, 10, 11, 12)  0.039611  0.030819   0.01541   \n",
       "5                           (5, 7, 10, 11, 12)  0.055057  0.042836  0.021418   \n",
       "6                        (4, 5, 7, 10, 11, 12)  0.047626  0.037054  0.018527   \n",
       "7                     (1, 4, 5, 7, 10, 11, 12)  0.042762   0.03327  0.016635   \n",
       "8                  (0, 1, 4, 5, 7, 10, 11, 12)  0.048774  0.037948  0.018974   \n",
       "9               (0, 1, 4, 5, 7, 8, 10, 11, 12)   0.04762   0.03705  0.018525   \n",
       "10           (0, 1, 4, 5, 7, 8, 9, 10, 11, 12)  0.046075  0.035848  0.017924   \n",
       "11        (0, 1, 3, 4, 5, 7, 8, 9, 10, 11, 12)  0.035367  0.027516  0.013758   \n",
       "12     (0, 1, 2, 3, 4, 5, 7, 8, 9, 10, 11, 12)  0.035641   0.02773  0.013865   \n",
       "13  (0, 1, 2, 3, 4, 5, 6, 7, 8, 9, 10, 11, 12)  0.038207  0.029727  0.014863   \n",
       "\n",
       "    observations  num_features adjusted_r2  \n",
       "1            404             1    0.537303  \n",
       "2            404             2     0.61133  \n",
       "3            404             3     0.65847  \n",
       "4            404             4    0.664048  \n",
       "5            404             5    0.667369  \n",
       "6            404             6    0.680869  \n",
       "7            404             7    0.685844  \n",
       "8            404             8    0.689274  \n",
       "9            404             9    0.696996  \n",
       "10           404            10    0.702654  \n",
       "11           404            11    0.699918  \n",
       "12           404            12    0.696781  \n",
       "13           404            13    0.692596  "
      ]
     },
     "execution_count": 105,
     "metadata": {},
     "output_type": "execute_result"
    }
   ],
   "source": [
    "metric_df = pd.DataFrame.from_dict(sfs.get_metric_dict()).T\n",
    "# no. of rows in training data\n",
    "metric_df['observations'] = 404\n",
    "# lenght of feature index\n",
    "metric_df['num_features'] = metric_df['feature_idx'].apply(lambda x:len(x))\n",
    "# calculate the adjusted r2 score\n",
    "metric_df['adjusted_r2'] = adjust_r2(metric_df['avg_score'],metric_df['observations'],metric_df['num_features'])\n",
    "\n",
    "metric_df"
   ]
  },
  {
   "cell_type": "code",
   "execution_count": 106,
   "metadata": {},
   "outputs": [
    {
     "data": {
      "image/png": "[encoded data removed]",
      "text/plain": [
       "<Figure size 640x480 with 1 Axes>"
      ]
     },
     "metadata": {},
     "output_type": "display_data"
    }
   ],
   "source": [
    "from mlxtend.plotting import plot_sequential_feature_selection as plot_sfs\n",
    "\n",
    "\n",
    "fig1 = plot_sfs(sfs.get_metric_dict(), kind='std_err',)\n",
    "\n",
    "plt.title('Sequential Forword Elimination (w. StdErr)')\n",
    "plt.grid()\n",
    "plt.show()"
   ]
  },
  {
   "cell_type": "code",
   "execution_count": 107,
   "metadata": {},
   "outputs": [
    {
     "name": "stdout",
     "output_type": "stream",
     "text": [
      "=======================================================\n",
      "training result after cross validation :  [0.77695939 0.68847412 0.70201241 0.67239069 0.7103273 ]\n",
      "testing result after cross validation :  [0.61358885 0.79672468 0.81710547 0.46033796 0.91515268]\n",
      "=======================================================\n",
      "training result mean :  0.710032783921856\n",
      "testing result mean :  0.7205819296124483\n",
      "=======================================================\n"
     ]
    }
   ],
   "source": [
    "# Sequential Forword Elimination transformation on train\n",
    "X_train_sel = sfs.transform(X_train)\n",
    "# Sequential Forword Elimination transformation on test\n",
    "X_test_sel = sfs.transform(X_test)\n",
    "\n",
    "model = LinearRegression()\n",
    "\n",
    "print('='*55)\n",
    "# result getting after cross validation\n",
    "print(\"training result after cross validation : \",cross_val_score(model, X_train_sel, y_train, cv=5, scoring='r2'))\n",
    "print(\"testing result after cross validation : \",cross_val_score(model, X_test_sel, y_test, cv=5, scoring='r2'))\n",
    "\n",
    "print('='*55)\n",
    "# mean of result\n",
    "print(\"training result mean : \",np.mean(cross_val_score(model, X_train_sel, y_train, cv=5, scoring='r2')))\n",
    "print(\"testing result mean : \",np.mean(cross_val_score(model, X_test_sel, y_test, cv=5, scoring='r2')))\n",
    "print('='*55)"
   ]
  },
  {
   "cell_type": "code",
   "execution_count": 108,
   "metadata": {},
   "outputs": [
    {
     "data": {
      "text/plain": [
       "(404, 10)"
      ]
     },
     "execution_count": 108,
     "metadata": {},
     "output_type": "execute_result"
    }
   ],
   "source": [
    "X_train_sel.shape"
   ]
  },
  {
   "cell_type": "code",
   "execution_count": null,
   "metadata": {},
   "outputs": [],
   "source": []
  },
  {
   "cell_type": "markdown",
   "metadata": {
    "id": "Mdxxw484CIbJ"
   },
   "source": [
    "### using sklearn"
   ]
  },
  {
   "cell_type": "code",
   "execution_count": 35,
   "metadata": {
    "id": "Gk2OGCfRCKqj"
   },
   "outputs": [],
   "source": [
    "from sklearn.feature_selection import SequentialFeatureSelector as SFS\n",
    "\n",
    "\n",
    "sfs2 = SFS(model,\n",
    "           n_features_to_select=5,\n",
    "           direction='forward',\n",
    "           scoring='r2',\n",
    "           n_jobs=-1,\n",
    "           cv=5)\n",
    "\n",
    "sfs2 = sfs2.fit(X_train, y_train)"
   ]
  },
  {
   "cell_type": "code",
   "execution_count": 36,
   "metadata": {
    "colab": {
     "base_uri": "https://localhost:8080/"
    },
    "id": "IajJt0KACXEK",
    "outputId": "96e3c827-59ad-4543-9064-0c1ff71cd4ab"
   },
   "outputs": [
    {
     "data": {
      "text/plain": [
       "array([ 5,  7, 10, 11, 12])"
      ]
     },
     "execution_count": 36,
     "metadata": {},
     "output_type": "execute_result"
    }
   ],
   "source": [
    "np.arange(X.shape[1])[sfs2.support_]"
   ]
  },
  {
   "cell_type": "code",
   "execution_count": null,
   "metadata": {
    "id": "GCjFfwOAHnEv"
   },
   "outputs": [],
   "source": []
  }
 ],
 "metadata": {
  "colab": {
   "provenance": []
  },
  "kernelspec": {
   "display_name": "Python 3 (ipykernel)",
   "language": "python",
   "name": "python3"
  },
  "language_info": {
   "codemirror_mode": {
    "name": "ipython",
    "version": 3
   },
   "file_extension": ".py",
   "mimetype": "text/x-python",
   "name": "python",
   "nbconvert_exporter": "python",
   "pygments_lexer": "ipython3",
   "version": "3.10.9"
  }
 },
 "nbformat": 4,
 "nbformat_minor": 1
}
