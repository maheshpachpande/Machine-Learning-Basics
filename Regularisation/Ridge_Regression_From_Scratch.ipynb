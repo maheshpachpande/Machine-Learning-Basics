{
  "nbformat": 4,
  "nbformat_minor": 0,
  "metadata": {
    "colab": {
      "provenance": []
    },
    "kernelspec": {
      "name": "python3",
      "display_name": "Python 3"
    },
    "language_info": {
      "name": "python"
    }
  },
  "cells": [
    {
      "cell_type": "code",
      "source": [
        "from sklearn.datasets import load_diabetes\n",
        "from sklearn.metrics import r2_score\n",
        "from sklearn.linear_model import Ridge\n",
        "import numpy as np\n",
        "\n",
        "x, y = load_diabetes(return_X_y=True)\n",
        "\n",
        "from sklearn.model_selection import train_test_split\n",
        "x_train, x_test, y_train, y_test = train_test_split(x, y, test_size=0.2, random_state=13)\n",
        "\n",
        "reg = Ridge(alpha=0.1)\n",
        "\n",
        "reg.fit(x_train, y_train)\n",
        "\n",
        "y_pred = reg.predict(x_test)\n",
        "\n",
        "print('r2_score : ',r2_score(y_test, y_pred))\n",
        "print('intercept : ',reg.intercept_)\n",
        "print('coef : ',reg.coef_)"
      ],
      "metadata": {
        "colab": {
          "base_uri": "https://localhost:8080/"
        },
        "id": "_O78wHe3RqeE",
        "outputId": "f5edbf14-cd8d-4526-a4a0-9aa7d0faafa6"
      },
      "execution_count": 24,
      "outputs": [
        {
          "output_type": "stream",
          "name": "stdout",
          "text": [
            "r2_score :  0.37915546090987384\n",
            "intercept :  150.3250826583213\n",
            "coef :  [  -5.10373917 -211.97523484  532.48566195  297.38876175  -57.55670284\n",
            "  -95.16345048 -206.58948886  105.25789549  437.89687435  124.41404427]\n"
          ]
        }
      ]
    },
    {
      "cell_type": "code",
      "source": [
        "class MeraRidge:\n",
        "  def __init__(self,alpha=0.01):\n",
        "    self.alpha = alpha\n",
        "    self.coef_ = None\n",
        "    self.intercept_ = None\n",
        "\n",
        "  def fit(self,x_train, y_train):\n",
        "    x_train = np.insert(x_train, 0, 1, axis=1)\n",
        "    I = np.identity(x_train.shape[1])\n",
        "    I[0][0] = 0\n",
        "    result =  np.linalg.inv(np.dot(x_train.T, x_train) + self.alpha * I).dot(x_train.T).dot(y_train)\n",
        "    self.intercept_ = result[0]\n",
        "    self.coef_ = result[1:]\n",
        "\n",
        "  def predict(self, x_test):\n",
        "    return np.dot(x_test, self.coef_) + self.intercept_"
      ],
      "metadata": {
        "id": "5Sc259OxTkeE"
      },
      "execution_count": 25,
      "outputs": []
    },
    {
      "cell_type": "code",
      "source": [
        "reg = MeraRidge(alpha=0.1)\n",
        "reg.fit(x_train, y_train)\n",
        "y_pred = reg.predict(x_test)\n",
        "\n",
        "print('r2_score : ',r2_score(y_test, y_pred))\n",
        "print('intercept : ',reg.intercept_)\n",
        "print('coef : ',reg.coef_)"
      ],
      "metadata": {
        "colab": {
          "base_uri": "https://localhost:8080/"
        },
        "id": "5RKdlOjEUrgP",
        "outputId": "159e6942-6744-4e1e-cfde-964079692e10"
      },
      "execution_count": 26,
      "outputs": [
        {
          "output_type": "stream",
          "name": "stdout",
          "text": [
            "r2_score :  0.3791554609098742\n",
            "intercept :  150.32508265832138\n",
            "coef :  [  -5.10373917 -211.97523484  532.48566195  297.38876175  -57.55670284\n",
            "  -95.16345048 -206.58948886  105.25789549  437.89687435  124.41404427]\n"
          ]
        }
      ]
    },
    {
      "cell_type": "code",
      "source": [],
      "metadata": {
        "id": "D26OhKYjUtr2"
      },
      "execution_count": null,
      "outputs": []
    }
  ]
}