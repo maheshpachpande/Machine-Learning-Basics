{
  "cells": [
    {
      "cell_type": "code",
      "source": [
        "import numpy as np\n",
        "from sklearn.datasets import load_diabetes\n",
        "from sklearn.metrics import r2_score"
      ],
      "metadata": {
        "id": "KefkRr0-D_72"
      },
      "execution_count": 1,
      "outputs": []
    },
    {
      "cell_type": "code",
      "source": [
        "x, y = load_diabetes(return_X_y=True)\n",
        "\n",
        "from sklearn.model_selection import train_test_split\n",
        "x_train, x_test, y_train, y_test = train_test_split(x, y, test_size=0.2, random_state=13)\n",
        "\n",
        "from sklearn.linear_model import SGDRegressor\n",
        "sg = SGDRegressor(penalty='l2', max_iter=500, eta0=0.1, learning_rate='constant', alpha=0.001)\n",
        "\n",
        "sg.fit(x_train, y_train)\n",
        "\n",
        "y_pred = sg.predict(x_test)\n",
        "print('r2_score : ',r2_score(y_test, y_pred))\n",
        "print('intercept : ',sg.intercept_)\n",
        "print('coef : ',sg.coef_)"
      ],
      "metadata": {
        "colab": {
          "base_uri": "https://localhost:8080/"
        },
        "id": "N3ZHrz4METJx",
        "outputId": "908eca02-4d19-4f0a-cfbb-ab647118d7a3"
      },
      "execution_count": 3,
      "outputs": [
        {
          "output_type": "stream",
          "name": "stdout",
          "text": [
            "r2_score :  0.4137538527680673\n",
            "intercept :  [157.84509413]\n",
            "coef :  [  14.38384383 -143.05349513  429.15932239  255.45031693  -11.8579958\n",
            "  -62.39582894 -183.38540555  123.35513066  331.68174534  141.41001975]\n"
          ]
        }
      ]
    },
    {
      "cell_type": "code",
      "source": [
        "from sklearn.linear_model import Ridge\n",
        "reg = Ridge(alpha=0.001, max_iter=500, solver='sparse_cg')\n",
        "\n",
        "reg.fit(x_train, y_train)\n",
        "\n",
        "y_pred1 = reg.predict(x_test)\n",
        "print('r2_score : ',r2_score(y_test, y_pred1))\n",
        "print('intercept : ',reg.intercept_)\n",
        "print('coef : ',reg.coef_)"
      ],
      "metadata": {
        "colab": {
          "base_uri": "https://localhost:8080/"
        },
        "id": "X1MZewWAFrsE",
        "outputId": "9e06c174-e70a-4fbe-9a71-da283023492c"
      },
      "execution_count": 5,
      "outputs": [
        {
          "output_type": "stream",
          "name": "stdout",
          "text": [
            "r2_score :  0.365808295279593\n",
            "intercept :  150.24625886117605\n",
            "coef :  [ -16.78271492 -247.85463693  578.77675814  315.47565987 -492.53114042\n",
            "  229.71248486  -52.47665778  111.34922582  664.47279485  108.51171141]\n"
          ]
        }
      ]
    },
    {
      "cell_type": "code",
      "source": [
        "from numpy.ma.extras import corrcoef\n",
        "class MeraRidgeGD:\n",
        "  def __init__(self, epochs, learning_rate, alpha):\n",
        "    self.learning_rate = learning_rate\n",
        "    self.epochs = epochs\n",
        "    self.alpha = alpha\n",
        "    self.coef_ = None\n",
        "    self.intercept_ = None\n",
        "\n",
        "  def fit(self, x_train, y_train):\n",
        "    self.coef_ = np.ones(x_train.shape[1])\n",
        "    self.intercept_ = 0\n",
        "    theta = np.insert(self.coef_, 0, self.intercept_)\n",
        "\n",
        "    x_train = np.insert(x_train, 0, 1, axis=1)\n",
        "\n",
        "    for i in range(self.epochs):\n",
        "      theta_der = np.dot(x_train.T,x_train).dot(theta) - np.dot(x_train.T, y_train) + self.alpha * theta\n",
        "      theta = theta - (self.learning_rate * theta_der)\n",
        "\n",
        "    self.coef_ = theta[1:]\n",
        "    self.intercept_ = theta[0]\n",
        "\n",
        "\n",
        "  def predict(self, x_test):\n",
        "    return np.dot(x_test,self.coef_) + self.intercept_"
      ],
      "metadata": {
        "id": "UT9JUgReGtdH"
      },
      "execution_count": 10,
      "outputs": []
    },
    {
      "cell_type": "code",
      "source": [
        "reg2 = MeraRidgeGD(epochs=500, learning_rate=0.005, alpha=0.001)\n",
        "\n",
        "reg2.fit(x_train, y_train)\n",
        "\n",
        "y_pred2 = reg2.predict(x_test)\n",
        "print('r2_score : ',r2_score(y_test, y_pred2))\n",
        "print('intercept : ',reg2.intercept_)\n",
        "print('coef : ',reg2.coef_)"
      ],
      "metadata": {
        "colab": {
          "base_uri": "https://localhost:8080/"
        },
        "id": "y8neQiQlJyLu",
        "outputId": "7116ca50-c5b8-4c44-9261-bcbcebdb54c1"
      },
      "execution_count": 13,
      "outputs": [
        {
          "output_type": "stream",
          "name": "stdout",
          "text": [
            "r2_score :  0.3725295311377427\n",
            "intercept :  150.2703428497419\n",
            "coef :  [  -0.71874189 -194.95261746  526.06431734  305.64676991  -36.03327624\n",
            " -102.58033152 -209.90823525  127.79856819  395.21590212  155.40837888]\n"
          ]
        }
      ]
    },
    {
      "cell_type": "code",
      "source": [],
      "metadata": {
        "id": "JQe_LeiCKGTF"
      },
      "execution_count": null,
      "outputs": []
    }
  ],
  "metadata": {
    "accelerator": "TPU",
    "colab": {
      "provenance": []
    },
    "kernelspec": {
      "display_name": "Python 3",
      "name": "python3"
    },
    "language_info": {
      "name": "python"
    }
  },
  "nbformat": 4,
  "nbformat_minor": 0
}